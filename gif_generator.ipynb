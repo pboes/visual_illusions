{
 "cells": [
  {
   "cell_type": "code",
   "execution_count": 32,
   "metadata": {},
   "outputs": [],
   "source": [
    "import numpy as np\n",
    "import PIL as pil\n",
    "from PIL import Image as im\n",
    "from PIL import ImageDraw as imdraw\n",
    "from numpy import random as rd"
   ]
  },
  {
   "cell_type": "code",
   "execution_count": 108,
   "metadata": {},
   "outputs": [],
   "source": [
    "def choose_random_colour():\n",
    "    return (rd.randint(256),rd.randint(256),rd.randint(256))\n",
    "\n",
    "def translate_to_left(your_image):\n",
    "    first_column = your_image.crop((0,0,20,500))\n",
    "    your_image = your_image.transform(your_image.size, Image.AFFINE, (1, 0, 20, 0, 1, 0))\n",
    "    your_image.paste(first_column,(480,0))\n",
    "    return your_image\n",
    "\n",
    "def create_random_grid():\n",
    "    my_image = im.new(\"RGB\",size=(500,500),color=\"red\")\n",
    "    draw = imdraw.Draw(my_image)\n",
    "    for j in range(int(500/20)):\n",
    "        for k in range(int(500/20)):\n",
    "            tlx = j*20\n",
    "            tly = k*20\n",
    "            brx = tlx + 20\n",
    "            bry = tly + 20\n",
    "            draw.rectangle((tlx,tly,brx,bry),choose_random_colour())\n",
    "    return my_image\n",
    "\n",
    "def randomly_change_colour(your_image,block_probability):\n",
    "    draw = imdraw.Draw(your_image)\n",
    "    for j in range(int(500/20)):\n",
    "        for k in range(int(500/20)):\n",
    "            tlx = j*20\n",
    "            tly = k*20\n",
    "            brx = tlx + 20\n",
    "            bry = tly + 20\n",
    "            if rd.rand() < block_probability:\n",
    "                draw.rectangle((tlx,tly,brx,bry),choose_random_colour())\n",
    "    return your_image"
   ]
  },
  {
   "cell_type": "code",
   "execution_count": 114,
   "metadata": {},
   "outputs": [],
   "source": [
    "cc_left_list = [create_random_grid()]\n",
    "for j in range(200):\n",
    "    cc_left_list.append(translate_to_left(cc_left_list[j]))\n",
    "\n",
    "cc_left_0 = cc_left_list[0]\n",
    "cc_left_0.save(\"constant_colours_left.gif\",save_all=True,append_images=cc_left_list[1:],duration = 100,loop=10)"
   ]
  },
  {
   "cell_type": "code",
   "execution_count": 115,
   "metadata": {},
   "outputs": [],
   "source": [
    "rc_left_list = [create_random_grid()]\n",
    "for j in range(200):\n",
    "    rc_left_list.append(randomly_change_colour(translate_to_left(rc_left_list[j]),0.1))\n",
    "\n",
    "rc_left_0 = rc_left_list[0]\n",
    "rc_left_0.save(\"changing_colours_left.gif\",save_all=True,append_images=rc_left_list[1:],duration = 100,loop=10)"
   ]
  },
  {
   "cell_type": "code",
   "execution_count": null,
   "metadata": {},
   "outputs": [],
   "source": []
  }
 ],
 "metadata": {
  "kernelspec": {
   "display_name": "Python 3",
   "language": "python",
   "name": "python3"
  },
  "language_info": {
   "codemirror_mode": {
    "name": "ipython",
    "version": 3
   },
   "file_extension": ".py",
   "mimetype": "text/x-python",
   "name": "python",
   "nbconvert_exporter": "python",
   "pygments_lexer": "ipython3",
   "version": "3.5.2"
  }
 },
 "nbformat": 4,
 "nbformat_minor": 2
}
