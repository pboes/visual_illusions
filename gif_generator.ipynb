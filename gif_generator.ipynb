{
 "cells": [
  {
   "cell_type": "code",
   "execution_count": 2,
   "metadata": {
    "collapsed": true
   },
   "outputs": [],
   "source": [
    "import numpy as np\n",
    "import PIL as pil\n",
    "from PIL import Image as im\n",
    "from PIL import ImageDraw as imdraw\n",
    "from numpy import random as rd\n",
    "from tempfile import TemporaryFile"
   ]
  },
  {
   "cell_type": "code",
   "execution_count": 10,
   "metadata": {
    "collapsed": true
   },
   "outputs": [],
   "source": [
    "imsize = 28\n",
    "cell_width = 4"
   ]
  },
  {
   "cell_type": "code",
   "execution_count": 48,
   "metadata": {
    "collapsed": true
   },
   "outputs": [],
   "source": [
    "def choose_random_colour():\n",
    "    return (rd.randint(256),rd.randint(256),rd.randint(256))\n",
    "\n",
    "def translate_to_left(your_image):\n",
    "    first_column = your_image.crop((0,0,cell_width,imsize))\n",
    "    your_image = your_image.transform(your_image.size, im.AFFINE, (1, 0, cell_width, 0, 1, 0))\n",
    "    your_image.paste(first_column,(imsize-cell_width,0))\n",
    "    return your_image\n",
    "\n",
    "def translate_to_right(your_image):\n",
    "    last_column = your_image.crop((imsize-cell_width,0,imsize,imsize))\n",
    "    your_image = your_image.transform(your_image.size, im.AFFINE, (1, 0, -cell_width, 0, 1, 0))\n",
    "    your_image.paste(last_column,(0,0))\n",
    "    return your_image\n",
    "\n",
    "def create_random_grid():\n",
    "    my_image = im.new(\"RGB\",size=(imsize, imsize),color=\"red\")\n",
    "    draw = imdraw.Draw(my_image)\n",
    "    for j in range(int(imsize/cell_size)):\n",
    "        for k in range(int(imsize/cell_size)):\n",
    "            tlx = j*cell_size\n",
    "            tly = k*cell_size\n",
    "            brx = tlx + cell_size\n",
    "            bry = tly + cell_size\n",
    "            draw.rectangle((tlx,tly,brx,bry),choose_random_colour())\n",
    "    return my_image\n",
    "\n",
    "def randomly_change_colour(your_image,block_probability):\n",
    "    draw = imdraw.Draw(your_image)\n",
    "    for j in range(int(imsize/cell_width)):\n",
    "        for k in range(int(imsize/cell_width)):\n",
    "            tlx = j*cell_width\n",
    "            tly = k*cell_width\n",
    "            brx = tlx + cell_width\n",
    "            bry = tly + cell_width\n",
    "            if rd.rand() < block_probability:\n",
    "                draw.rectangle((tlx,tly,brx,bry),choose_random_colour())\n",
    "    return your_image"
   ]
  },
  {
   "cell_type": "code",
   "execution_count": 55,
   "metadata": {
    "collapsed": true
   },
   "outputs": [],
   "source": [
    "#export these things as numpy arrays.\n",
    "init = create_random_grid()\n",
    "final = translate_to_left(init)\n",
    "init_a = np.array(init)\n",
    "final_a = np.array(final)\n",
    "both = np.concatenate((init_a,final_a),axis=2)"
   ]
  },
  {
   "cell_type": "code",
   "execution_count": 74,
   "metadata": {
    "collapsed": true
   },
   "outputs": [],
   "source": [
    "def create_database(no, filename):\n",
    "    left_ims = []\n",
    "    right_ims = []\n",
    "    \n",
    "    for i in range(no):\n",
    "        init = create_random_grid()\n",
    "        final = translate_to_left(init)\n",
    "        init_a = np.array(init)\n",
    "        final_a = np.array(final)\n",
    "        both = np.concatenate((init_a,final_a),axis=2)\n",
    "        left_ims.append(both)\n",
    "\n",
    "    for i in range(no):\n",
    "        init = create_random_grid()\n",
    "        final = translate_to_right(init)\n",
    "        init_a = np.array(init)\n",
    "        final_a = np.array(final)\n",
    "        both = np.concatenate((init_a,final_a),axis=2)\n",
    "        right_ims.append(both)\n",
    "        \n",
    "    left_a = np.asarray(left_ims)\n",
    "    right_a = np.asarray(right_ims)\n",
    "    \n",
    "    np.savez(filename,left=left_a,right=right_a)"
   ]
  },
  {
   "cell_type": "code",
   "execution_count": 81,
   "metadata": {
    "collapsed": true
   },
   "outputs": [],
   "source": [
    "create_database(10000, 'data')"
   ]
  },
  {
   "cell_type": "code",
   "execution_count": 44,
   "metadata": {
    "collapsed": true
   },
   "outputs": [],
   "source": [
    "cc_left_list = [create_random_grid()]\n",
    "for j in range(50):\n",
    "    cc_left_list.append(translate_to_left(cc_left_list[j]))\n",
    "\n",
    "cc_left_0 = cc_left_list[0]\n",
    "cc_left_0.save(\"constant_colours_left.gif\",save_all=True,append_images=cc_left_list[1:],duration = 100,loop=10)"
   ]
  },
  {
   "cell_type": "code",
   "execution_count": 49,
   "metadata": {
    "collapsed": true
   },
   "outputs": [],
   "source": [
    "cc_left_list = [create_random_grid()]\n",
    "for j in range(50):\n",
    "    cc_left_list.append(translate_to_right(cc_left_list[j]))\n",
    "\n",
    "cc_left_0 = cc_left_list[0]\n",
    "cc_left_0.save(\"constant_colours_right.gif\",save_all=True,append_images=cc_left_list[1:],duration = 100,loop=10)"
   ]
  },
  {
   "cell_type": "code",
   "execution_count": 115,
   "metadata": {
    "collapsed": true
   },
   "outputs": [],
   "source": [
    "rc_left_list = [create_random_grid()]\n",
    "for j in range(200):\n",
    "    rc_left_list.append(randomly_change_colour(translate_to_left(rc_left_list[j]),0.1))\n",
    "\n",
    "rc_left_0 = rc_left_list[0]\n",
    "rc_left_0.save(\"changing_colours_left.gif\",save_all=True,append_images=rc_left_list[1:],duration = 100,loop=10)"
   ]
  },
  {
   "cell_type": "code",
   "execution_count": 82,
   "metadata": {
    "collapsed": true
   },
   "outputs": [],
   "source": [
    "init.save('frame1.png','PNG')\n",
    "final.save('frame2.png','PNG')"
   ]
  },
  {
   "cell_type": "code",
   "execution_count": null,
   "metadata": {
    "collapsed": true
   },
   "outputs": [],
   "source": []
  }
 ],
 "metadata": {
  "kernelspec": {
   "display_name": "Python 3",
   "language": "python",
   "name": "python3"
  },
  "language_info": {
   "codemirror_mode": {
    "name": "ipython",
    "version": 3
   },
   "file_extension": ".py",
   "mimetype": "text/x-python",
   "name": "python",
   "nbconvert_exporter": "python",
   "pygments_lexer": "ipython3",
   "version": "3.6.8"
  }
 },
 "nbformat": 4,
 "nbformat_minor": 2
}
