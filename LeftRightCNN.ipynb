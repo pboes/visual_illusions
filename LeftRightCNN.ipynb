{
 "cells": [
  {
   "cell_type": "markdown",
   "metadata": {},
   "source": [
    "The goal of this notebook is to try train a CNN to distinguish between left motion and right motion..."
   ]
  },
  {
   "cell_type": "code",
   "execution_count": 1,
   "metadata": {},
   "outputs": [
    {
     "name": "stderr",
     "output_type": "stream",
     "text": [
      "Using TensorFlow backend.\n"
     ]
    }
   ],
   "source": [
    "# ------- Imports -----------\n",
    "\n",
    "import numpy as np\n",
    "from numpy import random as rd\n",
    "\n",
    "import keras as K\n",
    "from keras.callbacks import EarlyStopping, ReduceLROnPlateau\n",
    "from keras.models import Sequential, Model\n",
    "from keras.regularizers import l1_l2\n",
    "from keras.layers import Dense, Dropout, Input, Activation, Flatten \n",
    "from keras.layers import Conv2D, MaxPooling2D, ZeroPadding2D, GlobalAveragePooling2D\n",
    "from keras.layers.normalization import BatchNormalization\n",
    "from keras.optimizers import Adam\n",
    "from keras.datasets import mnist\n",
    "from keras import backend as KB\n",
    "from keras.layers.advanced_activations import LeakyReLU \n",
    "from keras.preprocessing.image import ImageDataGenerator\n",
    "from keras.utils import np_utils\n",
    "import copy\n",
    "\n",
    "import PIL as pil\n",
    "from PIL import Image as im\n",
    "from PIL import ImageDraw as imdraw\n",
    "\n",
    "from matplotlib import pyplot as plt\n",
    "%matplotlib inline"
   ]
  },
  {
   "cell_type": "code",
   "execution_count": 2,
   "metadata": {},
   "outputs": [],
   "source": [
    "# load the dataset..."
   ]
  },
  {
   "cell_type": "code",
   "execution_count": 27,
   "metadata": {},
   "outputs": [
    {
     "name": "stdout",
     "output_type": "stream",
     "text": [
      "left\n",
      "right\n"
     ]
    },
    {
     "data": {
      "text/plain": [
       "(10000, 28, 28, 6)"
      ]
     },
     "execution_count": 27,
     "metadata": {},
     "output_type": "execute_result"
    }
   ],
   "source": [
    "data = np.load(\"data.npz\")\n",
    "\n",
    "for key in data.keys():\n",
    "    print(key)\n",
    "    \n",
    "data_left = data[\"left\"]\n",
    "data_right = data[\"right\"]\n",
    "\n",
    "data_left.shape"
   ]
  },
  {
   "cell_type": "code",
   "execution_count": 28,
   "metadata": {},
   "outputs": [
    {
     "data": {
      "image/png": "[encoded data removed]",
      "text/plain": [
       "<Figure size 792x360 with 2 Axes>"
      ]
     },
     "metadata": {},
     "output_type": "display_data"
    }
   ],
   "source": [
    "fig = plt.figure(figsize=(11,5))\n",
    "ax1 = fig.add_subplot(121)\n",
    "ax1.axis(\"off\")\n",
    "ax1.set_title(\"frame 1\")\n",
    "_ = ax1.imshow(data_left[0,:,:,:3],cmap=\"hot\")\n",
    "\n",
    "ax2 = fig.add_subplot(122)\n",
    "ax2.axis(\"off\")\n",
    "ax2.set_title(\"frame 2\")\n",
    "_ = ax2.imshow(data_left[0,:,:,3:],cmap=\"hot\")\n",
    "\n",
    "plt.show()"
   ]
  },
  {
   "cell_type": "code",
   "execution_count": 29,
   "metadata": {},
   "outputs": [],
   "source": [
    "# create the total combined dataset\n",
    "\n",
    "total_dataset = np.concatenate((data_left,data_right),axis=0)"
   ]
  },
  {
   "cell_type": "code",
   "execution_count": 32,
   "metadata": {},
   "outputs": [],
   "source": [
    "x_train = total_dataset\n",
    "y_train = np.zeros((20000,2))\n",
    "for j in range(10000):\n",
    "    y_train[j,0] = 1                # left\n",
    "for j in range(10000,20000):\n",
    "    y_train[j,1] = 1                # right\n",
    "    \n",
    "x_train = x_train/255"
   ]
  },
  {
   "cell_type": "code",
   "execution_count": 138,
   "metadata": {},
   "outputs": [],
   "source": [
    "# We start off by specifying that our cnn is a Sequential object\n",
    "cnn = Sequential()\n",
    "\n",
    "# Add the first conv layer:\n",
    "cnn.add(Conv2D(32, (3, 3), input_shape=(28,28,6)))\n",
    "cnn.add(Activation('relu'))\n",
    "\n",
    "# We also use batch normalization between conv layers - see here https://arxiv.org/abs/1502.03167\n",
    "BatchNormalization(axis=-1)\n",
    "\n",
    "# Another conv layer\n",
    "cnn.add(Conv2D(32, (3, 3)))\n",
    "cnn.add(Activation('relu'))\n",
    "\n",
    "# Max Pooling (Coarse Graining)\n",
    "cnn.add(MaxPooling2D(pool_size=(2,2)))\n",
    "\n",
    "# etc...\n",
    "BatchNormalization(axis=-1)\n",
    "cnn.add(Conv2D(64,(3, 3)))\n",
    "cnn.add(Activation('relu'))\n",
    "BatchNormalization(axis=-1)\n",
    "cnn.add(Conv2D(64, (3, 3)))\n",
    "cnn.add(Activation('relu'))\n",
    "cnn.add(MaxPooling2D(pool_size=(2,2)))\n",
    "\n",
    "# Finally, we flatten the output of the last conv layer, so that it can be fed into fully connected layers...\n",
    "cnn.add(Flatten())\n",
    "\n",
    "# Fully connected layers - a FFNN on top of the conv layers\n",
    "BatchNormalization()\n",
    "cnn.add(Dense(512))\n",
    "cnn.add(Activation('relu'))\n",
    "BatchNormalization()\n",
    "cnn.add(Dropout(0.2))\n",
    "cnn.add(Dense(2))\n",
    "\n",
    "# We use a softmax as the final activation (ensures a legitimate probability distribution)\n",
    "cnn.add(Activation('softmax'))"
   ]
  },
  {
   "cell_type": "code",
   "execution_count": 34,
   "metadata": {},
   "outputs": [
    {
     "name": "stdout",
     "output_type": "stream",
     "text": [
      "_________________________________________________________________\n",
      "Layer (type)                 Output Shape              Param #   \n",
      "=================================================================\n",
      "conv2d_9 (Conv2D)            (None, 26, 26, 32)        1760      \n",
      "_________________________________________________________________\n",
      "activation_13 (Activation)   (None, 26, 26, 32)        0         \n",
      "_________________________________________________________________\n",
      "conv2d_10 (Conv2D)           (None, 24, 24, 32)        9248      \n",
      "_________________________________________________________________\n",
      "activation_14 (Activation)   (None, 24, 24, 32)        0         \n",
      "_________________________________________________________________\n",
      "max_pooling2d_5 (MaxPooling2 (None, 12, 12, 32)        0         \n",
      "_________________________________________________________________\n",
      "conv2d_11 (Conv2D)           (None, 10, 10, 64)        18496     \n",
      "_________________________________________________________________\n",
      "activation_15 (Activation)   (None, 10, 10, 64)        0         \n",
      "_________________________________________________________________\n",
      "conv2d_12 (Conv2D)           (None, 8, 8, 64)          36928     \n",
      "_________________________________________________________________\n",
      "activation_16 (Activation)   (None, 8, 8, 64)          0         \n",
      "_________________________________________________________________\n",
      "max_pooling2d_6 (MaxPooling2 (None, 4, 4, 64)          0         \n",
      "_________________________________________________________________\n",
      "flatten_3 (Flatten)          (None, 1024)              0         \n",
      "_________________________________________________________________\n",
      "dense_5 (Dense)              (None, 512)               524800    \n",
      "_________________________________________________________________\n",
      "activation_17 (Activation)   (None, 512)               0         \n",
      "_________________________________________________________________\n",
      "dropout_3 (Dropout)          (None, 512)               0         \n",
      "_________________________________________________________________\n",
      "dense_6 (Dense)              (None, 2)                 1026      \n",
      "_________________________________________________________________\n",
      "activation_18 (Activation)   (None, 2)                 0         \n",
      "=================================================================\n",
      "Total params: 592,258\n",
      "Trainable params: 592,258\n",
      "Non-trainable params: 0\n",
      "_________________________________________________________________\n"
     ]
    }
   ],
   "source": [
    "cnn.summary()"
   ]
  },
  {
   "cell_type": "code",
   "execution_count": 190,
   "metadata": {},
   "outputs": [],
   "source": [
    "cnn.compile(loss='categorical_crossentropy', optimizer=Adam(), metrics=['accuracy'])"
   ]
  },
  {
   "cell_type": "code",
   "execution_count": 191,
   "metadata": {},
   "outputs": [],
   "source": [
    "# ------ Training Parameters -------\n",
    "\n",
    "batch_size = 128\n",
    "max_epochs = 2\n",
    "validation_split = 0.4\n",
    "stopping_patience = 6\n",
    "lr_decay_factor = 0.2\n",
    "lr_patience = 3\n",
    "lr_min = 0.0001\n",
    "lr_cooldown = 2\n",
    "\n",
    "# -------- Callbacks ----------------\n",
    "        \n",
    "early_stopping = EarlyStopping(monitor=\"val_acc\", mode='auto',patience=stopping_patience)\n",
    "\n",
    "LR_schedule = ReduceLROnPlateau(monitor=\"val_acc\", \n",
    "                                      factor=lr_decay_factor, \n",
    "                                      patience=lr_patience, \n",
    "                                      verbose=1, \n",
    "                                      mode='auto', \n",
    "                                      min_delta=0.0001, \n",
    "                                      cooldown=lr_cooldown, min_lr=lr_min)"
   ]
  },
  {
   "cell_type": "code",
   "execution_count": 192,
   "metadata": {},
   "outputs": [
    {
     "name": "stdout",
     "output_type": "stream",
     "text": [
      "Train on 12000 samples, validate on 8000 samples\n",
      "Epoch 1/2\n",
      "12000/12000 [==============================] - 22s 2ms/step - loss: 0.0046 - acc: 0.9983 - val_loss: 1.0394e-04 - val_acc: 1.0000\n",
      "Epoch 2/2\n",
      "12000/12000 [==============================] - 22s 2ms/step - loss: 2.5263e-05 - acc: 1.0000 - val_loss: 6.2121e-05 - val_acc: 1.0000\n"
     ]
    }
   ],
   "source": [
    "training_history = cnn.fit(x_train, y_train,\n",
    "                            batch_size=batch_size, \n",
    "                            epochs=max_epochs, verbose=1, \n",
    "                            validation_split=validation_split,\n",
    "                            callbacks = [early_stopping, LR_schedule],\n",
    "                            shuffle=True)"
   ]
  },
  {
   "cell_type": "code",
   "execution_count": 211,
   "metadata": {},
   "outputs": [],
   "source": [
    "output_index = 1\n",
    "\n",
    "# define a placeholder for the input image_vector (the flattened image)\n",
    "input_image = cnn.input\n",
    "\n",
    "# define the loss function - which is precisely just the mean of the probability of the given character across the batch\n",
    "cnn_loss = KB.mean(cnn.output[:, output_index])\n",
    "\n",
    "# compute the gradient of the input picture wrt this loss\n",
    "cnn_grads = KB.gradients(cnn_loss, input_image)[0]\n",
    "\n",
    "# normalization trick: we normalize the gradient\n",
    "cnn_grads /= (KB.sqrt(KB.mean(KB.square(cnn_grads))) + 1e-5)\n",
    "\n",
    "# this function returns the loss and grads given the input picture\n",
    "cnn_iterate = KB.function([input_image], [cnn_loss, cnn_grads])"
   ]
  },
  {
   "cell_type": "code",
   "execution_count": 206,
   "metadata": {},
   "outputs": [],
   "source": [
    "def batched_image(image):\n",
    "    return image[None]\n",
    "\n",
    "def normal_image(batched_image):\n",
    "    return batched_image[0,:,:,:]"
   ]
  },
  {
   "cell_type": "code",
   "execution_count": 207,
   "metadata": {},
   "outputs": [],
   "source": [
    "imsize = 28\n",
    "cell_width = 4\n",
    "cell_size = cell_width\n",
    "\n",
    "def choose_random_colour():\n",
    "    return (rd.randint(256),rd.randint(256),rd.randint(256))\n",
    "\n",
    "def translate_to_left(your_image):\n",
    "    first_column = your_image.crop((0,0,cell_width,imsize))\n",
    "    your_image = your_image.transform(your_image.size, im.AFFINE, (1, 0, cell_width, 0, 1, 0))\n",
    "    your_image.paste(first_column,(imsize-cell_width,0))\n",
    "    return your_image\n",
    "\n",
    "def translate_to_right(your_image):\n",
    "    last_column = your_image.crop((imsize-cell_width,0,imsize,imsize))\n",
    "    your_image = your_image.transform(your_image.size, im.AFFINE, (1, 0, -cell_width, 0, 1, 0))\n",
    "    your_image.paste(last_column,(0,0))\n",
    "    return your_image\n",
    "\n",
    "def create_random_grid():\n",
    "    my_image = im.new(\"RGB\",size=(imsize, imsize),color=\"red\")\n",
    "    draw = imdraw.Draw(my_image)\n",
    "    for j in range(int(imsize/cell_size)):\n",
    "        for k in range(int(imsize/cell_size)):\n",
    "            tlx = j*cell_size\n",
    "            tly = k*cell_size\n",
    "            brx = tlx + cell_size\n",
    "            bry = tly + cell_size\n",
    "            draw.rectangle((tlx,tly,brx,bry),choose_random_colour())\n",
    "    return my_image\n",
    "\n",
    "def randomly_change_colour(your_image,block_probability):\n",
    "    draw = imdraw.Draw(your_image)\n",
    "    for j in range(int(imsize/cell_width)):\n",
    "        for k in range(int(imsize/cell_width)):\n",
    "            tlx = j*cell_width\n",
    "            tly = k*cell_width\n",
    "            brx = tlx + cell_width\n",
    "            bry = tly + cell_width\n",
    "            if rd.rand() < block_probability:\n",
    "                draw.rectangle((tlx,tly,brx,bry),choose_random_colour())\n",
    "    return your_image"
   ]
  },
  {
   "cell_type": "code",
   "execution_count": 214,
   "metadata": {},
   "outputs": [
    {
     "data": {
      "image/png": "[encoded data removed]",
      "text/plain": [
       "<Figure size 792x360 with 2 Axes>"
      ]
     },
     "metadata": {},
     "output_type": "display_data"
    },
    {
     "name": "stdout",
     "output_type": "stream",
     "text": [
      "[[1.0000000e+00 2.8439537e-10]]\n"
     ]
    }
   ],
   "source": [
    "frame_1 = np.array(create_random_grid())/255\n",
    "frame_2 = frame_1\n",
    "input_img_data = np.concatenate((frame_1,frame_2),axis = 2)[None]\n",
    "pre_image = copy.copy(input_img_data) \n",
    "\n",
    "# show the image\n",
    "fig = plt.figure(figsize=(11,5))\n",
    "ax1 = fig.add_subplot(121)\n",
    "ax1.axis(\"off\")\n",
    "ax1.set_title(\"frame 1\")\n",
    "_ = ax1.imshow(pre_image[0,:,:,:3],cmap=\"hot\")\n",
    "\n",
    "ax2 = fig.add_subplot(122)\n",
    "ax2.axis(\"off\")\n",
    "ax2.set_title(\"frame 2\")\n",
    "_ = ax2.imshow(pre_image[0,:,:,3:],cmap=\"hot\")\n",
    "\n",
    "plt.show()\n",
    "\n",
    "# plot the predictions of the neural net for this random image\n",
    "original_preds = cnn.predict(pre_image)\n",
    "print(original_preds)\n",
    "# _ = plt.hist(original_preds[0,:])\n",
    "# plt.show()\n",
    "\n",
    "# _ = plt.plot(original_preds[0,:],'x')\n",
    "# plt.show()"
   ]
  },
  {
   "cell_type": "code",
   "execution_count": 194,
   "metadata": {},
   "outputs": [
    {
     "data": {
      "text/plain": [
       "array([[1., 0.]], dtype=float32)"
      ]
     },
     "execution_count": 194,
     "metadata": {},
     "output_type": "execute_result"
    }
   ],
   "source": [
    "cnn.predict(data_left[34,:,:,:][None])"
   ]
  },
  {
   "cell_type": "code",
   "execution_count": 195,
   "metadata": {},
   "outputs": [
    {
     "data": {
      "text/plain": [
       "array([[0., 1.]], dtype=float32)"
      ]
     },
     "execution_count": 195,
     "metadata": {},
     "output_type": "execute_result"
    }
   ],
   "source": [
    "cnn.predict(data_right[5000,:,:,:][None])"
   ]
  },
  {
   "cell_type": "code",
   "execution_count": 215,
   "metadata": {
    "scrolled": false
   },
   "outputs": [
    {
     "name": "stdout",
     "output_type": "stream",
     "text": [
      "Current loss value: 2.8439537e-10\n",
      "Current loss value: 2.9769326e-10\n",
      "Current loss value: 3.122829e-10\n",
      "Current loss value: 3.284766e-10\n",
      "Current loss value: 3.4650793e-10\n",
      "Current loss value: 3.6657355e-10\n",
      "Current loss value: 3.8903836e-10\n",
      "Current loss value: 4.1449427e-10\n",
      "Current loss value: 4.4352358e-10\n",
      "Current loss value: 4.76989e-10\n"
     ]
    }
   ],
   "source": [
    "# run gradient ascent for n steps\n",
    "n = 5000\n",
    "step = 0.05\n",
    "for i in range(n):\n",
    "    loss_value, grads_value = cnn_iterate([input_img_data])\n",
    "    input_img_data += grads_value * step\n",
    "    if i%500 == 0:\n",
    "        print('Current loss value:', loss_value)"
   ]
  },
  {
   "cell_type": "code",
   "execution_count": 210,
   "metadata": {},
   "outputs": [
    {
     "data": {
      "image/png": "[encoded data removed]",
      "text/plain": [
       "<Figure size 792x360 with 2 Axes>"
      ]
     },
     "metadata": {},
     "output_type": "display_data"
    },
    {
     "name": "stderr",
     "output_type": "stream",
     "text": [
      "Clipping input data to the valid range for imshow with RGB data ([0..1] for floats or [0..255] for integers).\n",
      "Clipping input data to the valid range for imshow with RGB data ([0..1] for floats or [0..255] for integers).\n"
     ]
    },
    {
     "data": {
      "image/png": "[encoded data removed]",
      "text/plain": [
       "<Figure size 792x360 with 2 Axes>"
      ]
     },
     "metadata": {},
     "output_type": "display_data"
    },
    {
     "name": "stdout",
     "output_type": "stream",
     "text": [
      "[1.0000000e+00 1.5760163e-12]\n"
     ]
    }
   ],
   "source": [
    "# show the image\n",
    "fig = plt.figure(figsize=(11,5))\n",
    "ax1 = fig.add_subplot(121)\n",
    "ax1.axis(\"off\")\n",
    "ax1.set_title(\"frame 1\")\n",
    "_ = ax1.imshow(pre_image[0,:,:,:3],cmap=\"hot\")\n",
    "\n",
    "ax2 = fig.add_subplot(122)\n",
    "ax2.axis(\"off\")\n",
    "ax2.set_title(\"frame 2\")\n",
    "_ = ax2.imshow(pre_image[0,:,:,3:],cmap=\"hot\")\n",
    "\n",
    "plt.show()\n",
    "\n",
    "# show the image\n",
    "fig = plt.figure(figsize=(11,5))\n",
    "ax1 = fig.add_subplot(121)\n",
    "ax1.axis(\"off\")\n",
    "ax1.set_title(\"frame 1\")\n",
    "_ = ax1.imshow(input_img_data[0,:,:,:3],cmap=\"hot\")\n",
    "\n",
    "ax2 = fig.add_subplot(122)\n",
    "ax2.axis(\"off\")\n",
    "ax2.set_title(\"frame 2\")\n",
    "_ = ax2.imshow(input_img_data[0,:,:,3:],cmap=\"hot\")\n",
    "\n",
    "plt.show()\n",
    "\n",
    "# plot the predictions of the neural net for this random image\n",
    "new_preds = cnn.predict(input_img_data)\n",
    "print(new_preds[0])"
   ]
  },
  {
   "cell_type": "code",
   "execution_count": 203,
   "metadata": {},
   "outputs": [],
   "source": [
    "lefts = 0\n",
    "for j in range(1000):\n",
    "    frame_1 = np.array(create_random_grid())/255\n",
    "    frame_2 = frame_1\n",
    "    input_img_data = np.concatenate((frame_1,frame_2),axis = 2)[None]\n",
    "    pre_image = copy.copy(input_img_data) \n",
    "    original_preds = cnn.predict(pre_image)[0]\n",
    "    if np.argmax(original_preds) == 0:\n",
    "        lefts+=1"
   ]
  },
  {
   "cell_type": "code",
   "execution_count": 204,
   "metadata": {},
   "outputs": [
    {
     "data": {
      "text/plain": [
       "984"
      ]
     },
     "execution_count": 204,
     "metadata": {},
     "output_type": "execute_result"
    }
   ],
   "source": [
    "lefts"
   ]
  },
  {
   "cell_type": "code",
   "execution_count": null,
   "metadata": {},
   "outputs": [],
   "source": []
  }
 ],
 "metadata": {
  "kernelspec": {
   "display_name": "Python 3",
   "language": "python",
   "name": "python3"
  },
  "language_info": {
   "codemirror_mode": {
    "name": "ipython",
    "version": 3
   },
   "file_extension": ".py",
   "mimetype": "text/x-python",
   "name": "python",
   "nbconvert_exporter": "python",
   "pygments_lexer": "ipython3",
   "version": "3.7.3"
  }
 },
 "nbformat": 4,
 "nbformat_minor": 2
}
