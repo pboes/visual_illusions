{
 "cells": [
  {
   "cell_type": "code",
   "execution_count": 11,
   "metadata": {},
   "outputs": [],
   "source": [
    "# The goal of this notebook is to figure out how to make a copy layer\n",
    "\n",
    "import numpy as np\n",
    "from keras import backend as K\n",
    "from keras.models import Model\n",
    "from keras.layers import Input, Dense, Flatten, Reshape, UpSampling3D\n"
   ]
  },
  {
   "cell_type": "code",
   "execution_count": 12,
   "metadata": {},
   "outputs": [],
   "source": [
    "n_channels = 3\n",
    "im_height = 5\n",
    "im_width = 5\n",
    "\n",
    "n_rep = 2"
   ]
  },
  {
   "cell_type": "code",
   "execution_count": 13,
   "metadata": {},
   "outputs": [],
   "source": [
    "input_layer = Input(shape = (1,im_height, im_width,n_channels))\n",
    "output_layer = UpSampling3D(size=(n_rep,1,1))(input_layer)\n",
    "\n",
    "my_model = Model(inputs = input_layer, outputs = output_layer)"
   ]
  },
  {
   "cell_type": "code",
   "execution_count": 18,
   "metadata": {},
   "outputs": [],
   "source": [
    "test_data = np.ones(shape = (1,im_height,im_width,n_channels))"
   ]
  },
  {
   "cell_type": "code",
   "execution_count": 22,
   "metadata": {},
   "outputs": [],
   "source": [
    "batched_test_data = np.expand_dims(test_data,axis = 0)"
   ]
  },
  {
   "cell_type": "code",
   "execution_count": 23,
   "metadata": {},
   "outputs": [
    {
     "data": {
      "text/plain": [
       "(1, 1, 5, 5, 3)"
      ]
     },
     "execution_count": 23,
     "metadata": {},
     "output_type": "execute_result"
    }
   ],
   "source": [
    "batched_test_data.shape"
   ]
  },
  {
   "cell_type": "code",
   "execution_count": 25,
   "metadata": {},
   "outputs": [],
   "source": [
    "out_test = my_model.predict(batched_test_data)"
   ]
  },
  {
   "cell_type": "code",
   "execution_count": 26,
   "metadata": {},
   "outputs": [
    {
     "data": {
      "text/plain": [
       "(1, 2, 5, 5, 3)"
      ]
     },
     "execution_count": 26,
     "metadata": {},
     "output_type": "execute_result"
    }
   ],
   "source": [
    "out_test.shape"
   ]
  },
  {
   "cell_type": "code",
   "execution_count": 36,
   "metadata": {},
   "outputs": [],
   "source": [
    "new_test = np.random.normal(size = (1,im_height,im_width,n_channels))"
   ]
  },
  {
   "cell_type": "code",
   "execution_count": 37,
   "metadata": {},
   "outputs": [],
   "source": [
    "new_batched_test = np.expand_dims(new_test,axis = 0)"
   ]
  },
  {
   "cell_type": "code",
   "execution_count": 38,
   "metadata": {},
   "outputs": [],
   "source": [
    "real_test = my_model.predict(new_batched_test)"
   ]
  },
  {
   "cell_type": "code",
   "execution_count": 39,
   "metadata": {},
   "outputs": [
    {
     "data": {
      "text/plain": [
       "(1, 2, 5, 5, 3)"
      ]
     },
     "execution_count": 39,
     "metadata": {},
     "output_type": "execute_result"
    }
   ],
   "source": [
    "real_test.shape"
   ]
  },
  {
   "cell_type": "code",
   "execution_count": 40,
   "metadata": {},
   "outputs": [
    {
     "data": {
      "text/plain": [
       "(1, 1, 5, 5, 3)"
      ]
     },
     "execution_count": 40,
     "metadata": {},
     "output_type": "execute_result"
    }
   ],
   "source": [
    "new_batched_test.shape"
   ]
  },
  {
   "cell_type": "code",
   "execution_count": 41,
   "metadata": {},
   "outputs": [
    {
     "data": {
      "text/plain": [
       "array([[[[[-0.0334921 ,  1.24122522, -0.8239137 ],\n",
       "          [ 0.77127855, -0.71984875, -0.11075273],\n",
       "          [ 0.13564072,  1.56946612,  1.57202644],\n",
       "          [-0.08771299, -0.26529496,  0.75061859],\n",
       "          [ 1.34339893,  1.23866724,  0.92301009]],\n",
       "\n",
       "         [[-0.75403848,  1.24639244, -0.06478041],\n",
       "          [-0.12423375, -0.2655426 , -0.6009753 ],\n",
       "          [ 1.01444138, -0.21644387,  0.6885904 ],\n",
       "          [-0.24498028, -1.98968674, -1.21269282],\n",
       "          [-1.33622834, -1.86573731, -0.67121718]],\n",
       "\n",
       "         [[ 1.04124036, -0.72212924,  0.46008672],\n",
       "          [-0.95356087, -0.28742913,  0.19534648],\n",
       "          [ 0.37373382,  1.55271244,  0.40990626],\n",
       "          [-0.22377924,  0.59257788,  0.88753593],\n",
       "          [ 0.18706544, -1.1466984 , -0.80474711]],\n",
       "\n",
       "         [[ 0.15470138, -1.5597559 , -0.63841445],\n",
       "          [-0.88345786, -0.87879459,  0.72003996],\n",
       "          [ 0.84902754, -3.43563199,  0.3547264 ],\n",
       "          [-1.72243831, -0.71979967,  0.61287186],\n",
       "          [ 0.0259125 ,  0.05291405,  0.53269627]],\n",
       "\n",
       "         [[ 0.08078105, -0.53058186, -1.0195067 ],\n",
       "          [-1.29970649, -0.97953118,  1.20598593],\n",
       "          [-0.56473416,  1.01755995,  1.10249002],\n",
       "          [-2.74936141,  0.26946528,  0.76537496],\n",
       "          [ 1.00413433,  0.48851222,  1.03104815]]]]])"
      ]
     },
     "execution_count": 41,
     "metadata": {},
     "output_type": "execute_result"
    }
   ],
   "source": [
    "new_batched_test"
   ]
  },
  {
   "cell_type": "code",
   "execution_count": 42,
   "metadata": {},
   "outputs": [
    {
     "data": {
      "text/plain": [
       "array([[[[-0.0334921 ,  1.2412252 , -0.8239137 ],\n",
       "         [ 0.77127856, -0.71984875, -0.11075273],\n",
       "         [ 0.13564073,  1.5694661 ,  1.5720265 ],\n",
       "         [-0.087713  , -0.26529497,  0.7506186 ],\n",
       "         [ 1.3433989 ,  1.2386672 ,  0.9230101 ]],\n",
       "\n",
       "        [[-0.7540385 ,  1.2463925 , -0.06478041],\n",
       "         [-0.12423375, -0.2655426 , -0.6009753 ],\n",
       "         [ 1.0144414 , -0.21644387,  0.6885904 ],\n",
       "         [-0.24498028, -1.9896867 , -1.2126929 ],\n",
       "         [-1.3362284 , -1.8657373 , -0.6712172 ]],\n",
       "\n",
       "        [[ 1.0412403 , -0.7221292 ,  0.46008673],\n",
       "         [-0.9535609 , -0.28742912,  0.19534647],\n",
       "         [ 0.37373382,  1.5527124 ,  0.40990627],\n",
       "         [-0.22377925,  0.5925779 ,  0.8875359 ],\n",
       "         [ 0.18706544, -1.1466984 , -0.8047471 ]],\n",
       "\n",
       "        [[ 0.15470138, -1.5597559 , -0.63841444],\n",
       "         [-0.88345784, -0.8787946 ,  0.72003996],\n",
       "         [ 0.8490275 , -3.435632  ,  0.3547264 ],\n",
       "         [-1.7224383 , -0.7197997 ,  0.6128719 ],\n",
       "         [ 0.0259125 ,  0.05291405,  0.53269625]],\n",
       "\n",
       "        [[ 0.08078105, -0.5305819 , -1.0195067 ],\n",
       "         [-1.2997065 , -0.97953117,  1.2059859 ],\n",
       "         [-0.56473416,  1.01756   ,  1.1024901 ],\n",
       "         [-2.7493615 ,  0.26946527,  0.76537496],\n",
       "         [ 1.0041343 ,  0.48851222,  1.0310482 ]]]], dtype=float32)"
      ]
     },
     "execution_count": 42,
     "metadata": {},
     "output_type": "execute_result"
    }
   ],
   "source": [
    "real_test[:,0,:,:,:]"
   ]
  },
  {
   "cell_type": "code",
   "execution_count": 43,
   "metadata": {},
   "outputs": [
    {
     "data": {
      "text/plain": [
       "array([[[[-0.0334921 ,  1.2412252 , -0.8239137 ],\n",
       "         [ 0.77127856, -0.71984875, -0.11075273],\n",
       "         [ 0.13564073,  1.5694661 ,  1.5720265 ],\n",
       "         [-0.087713  , -0.26529497,  0.7506186 ],\n",
       "         [ 1.3433989 ,  1.2386672 ,  0.9230101 ]],\n",
       "\n",
       "        [[-0.7540385 ,  1.2463925 , -0.06478041],\n",
       "         [-0.12423375, -0.2655426 , -0.6009753 ],\n",
       "         [ 1.0144414 , -0.21644387,  0.6885904 ],\n",
       "         [-0.24498028, -1.9896867 , -1.2126929 ],\n",
       "         [-1.3362284 , -1.8657373 , -0.6712172 ]],\n",
       "\n",
       "        [[ 1.0412403 , -0.7221292 ,  0.46008673],\n",
       "         [-0.9535609 , -0.28742912,  0.19534647],\n",
       "         [ 0.37373382,  1.5527124 ,  0.40990627],\n",
       "         [-0.22377925,  0.5925779 ,  0.8875359 ],\n",
       "         [ 0.18706544, -1.1466984 , -0.8047471 ]],\n",
       "\n",
       "        [[ 0.15470138, -1.5597559 , -0.63841444],\n",
       "         [-0.88345784, -0.8787946 ,  0.72003996],\n",
       "         [ 0.8490275 , -3.435632  ,  0.3547264 ],\n",
       "         [-1.7224383 , -0.7197997 ,  0.6128719 ],\n",
       "         [ 0.0259125 ,  0.05291405,  0.53269625]],\n",
       "\n",
       "        [[ 0.08078105, -0.5305819 , -1.0195067 ],\n",
       "         [-1.2997065 , -0.97953117,  1.2059859 ],\n",
       "         [-0.56473416,  1.01756   ,  1.1024901 ],\n",
       "         [-2.7493615 ,  0.26946527,  0.76537496],\n",
       "         [ 1.0041343 ,  0.48851222,  1.0310482 ]]]], dtype=float32)"
      ]
     },
     "execution_count": 43,
     "metadata": {},
     "output_type": "execute_result"
    }
   ],
   "source": [
    "real_test[:,1,:,:,:]"
   ]
  },
  {
   "cell_type": "code",
   "execution_count": null,
   "metadata": {},
   "outputs": [],
   "source": []
  }
 ],
 "metadata": {
  "kernelspec": {
   "display_name": "Python 3",
   "language": "python",
   "name": "python3"
  },
  "language_info": {
   "codemirror_mode": {
    "name": "ipython",
    "version": 3
   },
   "file_extension": ".py",
   "mimetype": "text/x-python",
   "name": "python",
   "nbconvert_exporter": "python",
   "pygments_lexer": "ipython3",
   "version": "3.5.2"
  }
 },
 "nbformat": 4,
 "nbformat_minor": 2
}
