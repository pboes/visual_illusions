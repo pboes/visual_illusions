{
 "cells": [
  {
   "cell_type": "code",
   "execution_count": 1,
   "metadata": {},
   "outputs": [
    {
     "name": "stderr",
     "output_type": "stream",
     "text": [
      "Using TensorFlow backend.\n"
     ]
    },
    {
     "name": "stdout",
     "output_type": "stream",
     "text": [
      "WARNING:tensorflow:From /home/ryan/.local/share/virtualenvs/Projects-hxRcHu8_/lib/python3.5/site-packages/tensorflow/python/framework/op_def_library.py:263: colocate_with (from tensorflow.python.framework.ops) is deprecated and will be removed in a future version.\n",
      "Instructions for updating:\n",
      "Colocations handled automatically by placer.\n"
     ]
    }
   ],
   "source": [
    "'''\n",
    "Evaluate trained PredNet on KITTI sequences.\n",
    "Calculates mean-squared error and plots predictions.\n",
    "'''\n",
    "\n",
    "import os\n",
    "import numpy as np\n",
    "from six.moves import cPickle\n",
    "import matplotlib\n",
    "import matplotlib.pyplot as plt\n",
    "import matplotlib.gridspec as gridspec\n",
    "%matplotlib inline\n",
    "\n",
    "from keras import backend as K\n",
    "from keras.models import Model, model_from_json\n",
    "from keras.layers import Input, Dense, Flatten, UpSampling3D\n",
    "\n",
    "from prednet import PredNet\n",
    "from data_utils import SequenceGenerator\n",
    "from kitti_settings import *\n",
    "\n",
    "\n",
    "n_plot = 40\n",
    "batch_size = 10\n",
    "nt = 10\n",
    "\n",
    "weights_file = os.path.join(WEIGHTS_DIR, 'tensorflow_weights/prednet_kitti_weights.hdf5')\n",
    "json_file = os.path.join(WEIGHTS_DIR, 'prednet_kitti_model.json')\n",
    "test_file = os.path.join(DATA_DIR, 'X_test.hkl')\n",
    "test_sources = os.path.join(DATA_DIR, 'sources_test.hkl')\n",
    "\n",
    "# Load trained model\n",
    "f = open(json_file, 'r')\n",
    "json_string = f.read()\n",
    "f.close()\n",
    "train_model = model_from_json(json_string, custom_objects = {'PredNet': PredNet})\n",
    "train_model.load_weights(weights_file)"
   ]
  },
  {
   "cell_type": "code",
   "execution_count": 2,
   "metadata": {},
   "outputs": [],
   "source": [
    "# Create testing model (to output predictions)\n",
    "layer_config = train_model.layers[1].get_config()\n",
    "#layer_config['output_mode'] = 'prediction'\n",
    "data_format = layer_config['data_format'] if 'data_format' in layer_config else layer_config['dim_ordering']\n",
    "test_prednet = PredNet(weights=train_model.layers[1].get_weights(), **layer_config)\n",
    "input_shape = list(train_model.layers[0].batch_input_shape[1:])\n"
   ]
  },
  {
   "cell_type": "code",
   "execution_count": 3,
   "metadata": {},
   "outputs": [
    {
     "data": {
      "text/plain": [
       "[10, 3, 128, 160]"
      ]
     },
     "execution_count": 3,
     "metadata": {},
     "output_type": "execute_result"
    }
   ],
   "source": [
    "input_shape"
   ]
  },
  {
   "cell_type": "code",
   "execution_count": 4,
   "metadata": {},
   "outputs": [],
   "source": [
    "inputs = Input(shape = (1,3,128,160))    # dim_1, channels, dim_2, dim_3\n",
    "copied_inputs = UpSampling3D(size = (10,1,1), data_format=\"channels_last\")(inputs)"
   ]
  },
  {
   "cell_type": "code",
   "execution_count": 5,
   "metadata": {},
   "outputs": [],
   "source": [
    "predictions = test_prednet(copied_inputs)\n",
    "test_model = Model(inputs=inputs, outputs=predictions)"
   ]
  },
  {
   "cell_type": "code",
   "execution_count": 6,
   "metadata": {},
   "outputs": [
    {
     "name": "stdout",
     "output_type": "stream",
     "text": [
      "_________________________________________________________________\n",
      "Layer (type)                 Output Shape              Param #   \n",
      "=================================================================\n",
      "input_1 (InputLayer)         (None, 1, 3, 128, 160)    0         \n",
      "_________________________________________________________________\n",
      "up_sampling3d_1 (UpSampling3 (None, 10, 3, 128, 160)   0         \n",
      "_________________________________________________________________\n",
      "prednet_1 (PredNet)          (None, 10, 4)             6915948   \n",
      "=================================================================\n",
      "Total params: 6,915,948\n",
      "Trainable params: 6,915,948\n",
      "Non-trainable params: 0\n",
      "_________________________________________________________________\n"
     ]
    }
   ],
   "source": [
    "test_model.summary()"
   ]
  },
  {
   "cell_type": "code",
   "execution_count": null,
   "metadata": {},
   "outputs": [],
   "source": [
    "Loss = model.outputs[0,0,0]"
   ]
  }
 ],
 "metadata": {
  "kernelspec": {
   "display_name": "Python 3",
   "language": "python",
   "name": "python3"
  },
  "language_info": {
   "codemirror_mode": {
    "name": "ipython",
    "version": 3
   },
   "file_extension": ".py",
   "mimetype": "text/x-python",
   "name": "python",
   "nbconvert_exporter": "python",
   "pygments_lexer": "ipython3",
   "version": "3.5.2"
  }
 },
 "nbformat": 4,
 "nbformat_minor": 2
}
