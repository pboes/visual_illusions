{
 "cells": [
  {
   "cell_type": "code",
   "execution_count": 1,
   "metadata": {},
   "outputs": [
    {
     "name": "stderr",
     "output_type": "stream",
     "text": [
      "Using TensorFlow backend.\n"
     ]
    },
    {
     "name": "stdout",
     "output_type": "stream",
     "text": [
      "WARNING:tensorflow:From /anaconda3/lib/python3.7/site-packages/tensorflow/python/framework/op_def_library.py:263: colocate_with (from tensorflow.python.framework.ops) is deprecated and will be removed in a future version.\n",
      "Instructions for updating:\n",
      "Colocations handled automatically by placer.\n"
     ]
    }
   ],
   "source": [
    "'''\n",
    "Evaluate trained PredNet on KITTI sequences.\n",
    "Calculates mean-squared error and plots predictions.\n",
    "'''\n",
    "\n",
    "import os\n",
    "import numpy as np\n",
    "from six.moves import cPickle\n",
    "import matplotlib\n",
    "import matplotlib.pyplot as plt\n",
    "import matplotlib.gridspec as gridspec\n",
    "%matplotlib inline\n",
    "\n",
    "from keras import backend as K\n",
    "from keras.models import Model, model_from_json\n",
    "from keras.layers import Input, Dense, Flatten\n",
    "\n",
    "from prednet import PredNet\n",
    "from data_utils import SequenceGenerator\n",
    "from kitti_settings import *\n",
    "\n",
    "\n",
    "n_plot = 40\n",
    "batch_size = 10\n",
    "nt = 10\n",
    "\n",
    "weights_file = os.path.join(WEIGHTS_DIR, 'tensorflow_weights/prednet_kitti_weights.hdf5')\n",
    "json_file = os.path.join(WEIGHTS_DIR, 'prednet_kitti_model.json')\n",
    "test_file = os.path.join(DATA_DIR, 'X_test.hkl')\n",
    "test_sources = os.path.join(DATA_DIR, 'sources_test.hkl')\n",
    "\n",
    "# Load trained model\n",
    "f = open(json_file, 'r')\n",
    "json_string = f.read()\n",
    "f.close()\n",
    "train_model = model_from_json(json_string, custom_objects = {'PredNet': PredNet})\n",
    "train_model.load_weights(weights_file)"
   ]
  },
  {
   "cell_type": "code",
   "execution_count": 2,
   "metadata": {},
   "outputs": [],
   "source": [
    "# Create testing model (to output predictions)\n",
    "layer_config = train_model.layers[1].get_config()\n",
    "layer_config['output_mode'] = 'prediction'\n",
    "data_format = layer_config['data_format'] if 'data_format' in layer_config else layer_config['dim_ordering']\n",
    "test_prednet = PredNet(weights=train_model.layers[1].get_weights(), **layer_config)\n",
    "input_shape = list(train_model.layers[0].batch_input_shape[1:])\n",
    "input_shape[0] = nt\n",
    "inputs = Input(shape=tuple(input_shape))\n",
    "predictions = test_prednet(inputs)\n",
    "test_model = Model(inputs=inputs, outputs=predictions)"
   ]
  },
  {
   "cell_type": "code",
   "execution_count": null,
   "metadata": {},
   "outputs": [],
   "source": [
    "#had to run this to avoid a weird error with the kernel dying\n",
    "import os\n",
    "os.environ['KMP_DUPLICATE_LIB_OK']='True'"
   ]
  },
  {
   "cell_type": "code",
   "execution_count": null,
   "metadata": {},
   "outputs": [],
   "source": [
    "#first we predict for the illusion model\n",
    "import cv2\n",
    "im = cv2.imread(\"Test_data_illusion_single_L.jpg\",-1)\n",
    "type(im)\n",
    "b,g,r = cv2.split(im)\n",
    "im2 = cv2.merge([r,g,b])\n",
    "newim = np.pad(im2,((0,8),(0,0),(0,0)), 'constant',constant_values=(127))\n",
    "newim = np.resize(newim,(1,10,128,160,3))\n",
    "newim2 = np.transpose(newim,(0,1,4,2,3))\n",
    "X_ill = test_model.predict(newim2, batch_size)\n",
    "X_ill = np.transpose(X_ill, (0, 1, 3, 4, 2))"
   ]
  },
  {
   "cell_type": "code",
   "execution_count": null,
   "metadata": {},
   "outputs": [],
   "source": [
    "plt.imshow(X_ill[0,9])"
   ]
  },
  {
   "cell_type": "code",
   "execution_count": null,
   "metadata": {},
   "outputs": [],
   "source": [
    "#testing the detected \"movement\" via mean square error\n",
    "movement = []\n",
    "for i in range(10):\n",
    "    movement.append(np.mean(newim[0,0] - X_ill[0,i])**2)\n",
    "movement"
   ]
  },
  {
   "cell_type": "code",
   "execution_count": null,
   "metadata": {},
   "outputs": [],
   "source": [
    "plt.imshow(im2)"
   ]
  },
  {
   "cell_type": "code",
   "execution_count": null,
   "metadata": {},
   "outputs": [],
   "source": [
    "#now the non-illusion image for compariseon\n",
    "imm = cv2.imread(\"Test_data_non_illusion_single.jpg\",-1)\n",
    "type(im)\n",
    "b,g,r = cv2.split(imm)\n",
    "imm2 = cv2.merge([r,g,b])\n",
    "plt.imshow(imm2)\n",
    "newimm = np.pad(imm2,((0,8),(0,0),(0,0)), 'constant',constant_values=(127))\n",
    "newimm = np.resize(newimm,(1,10,128,160,3))\n",
    "newimm2 = np.transpose(newimm,(0,1,4,2,3))\n",
    "X_ill2 = test_model.predict(newimm2, batch_size)\n",
    "X_ill2 = np.transpose(X_ill2, (0, 1, 3, 4, 2))"
   ]
  },
  {
   "cell_type": "code",
   "execution_count": null,
   "metadata": {},
   "outputs": [],
   "source": [
    "plt.imshow(X_ill2[0,9])"
   ]
  },
  {
   "cell_type": "code",
   "execution_count": null,
   "metadata": {},
   "outputs": [],
   "source": [
    "movement2 = []\n",
    "for i in range(10):\n",
    "    movement2.append(np.mean(newimm[0,0] - X_ill2[0,i])**2)\n",
    "movement2"
   ]
  },
  {
   "cell_type": "code",
   "execution_count": null,
   "metadata": {},
   "outputs": [],
   "source": []
  },
  {
   "cell_type": "code",
   "execution_count": null,
   "metadata": {},
   "outputs": [],
   "source": []
  }
 ],
 "metadata": {
  "kernelspec": {
   "display_name": "Python 3",
   "language": "python",
   "name": "python3"
  },
  "language_info": {
   "codemirror_mode": {
    "name": "ipython",
    "version": 3
   },
   "file_extension": ".py",
   "mimetype": "text/x-python",
   "name": "python",
   "nbconvert_exporter": "python",
   "pygments_lexer": "ipython3",
   "version": "3.7.3"
  }
 },
 "nbformat": 4,
 "nbformat_minor": 2
}
