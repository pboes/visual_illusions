{
 "cells": [
  {
   "cell_type": "markdown",
   "metadata": {},
   "source": [
    "This notebook contains a workflow for generating illusions..."
   ]
  },
  {
   "cell_type": "code",
   "execution_count": 11,
   "metadata": {},
   "outputs": [],
   "source": [
    "# --------- imports and load trained model ----------------\n",
    "\n",
    "import os\n",
    "import numpy as np\n",
    "from six.moves import cPickle\n",
    "import matplotlib\n",
    "import matplotlib.pyplot as plt\n",
    "import matplotlib.gridspec as gridspec\n",
    "%matplotlib inline\n",
    "\n",
    "from keras import backend as K\n",
    "from keras.models import Model, model_from_json\n",
    "from keras.layers import Input, Dense, Flatten, UpSampling3D\n",
    "\n",
    "from prednet import PredNet\n",
    "from data_utils import SequenceGenerator\n",
    "from kitti_settings import *\n",
    "\n",
    "from datetime import datetime\n",
    "\n",
    "os.environ['KMP_DUPLICATE_LIB_OK']='True'\n",
    "\n",
    "n_plot = 40\n",
    "batch_size = 10\n",
    "nt = 1\n",
    "\n",
    "weights_file = os.path.join(WEIGHTS_DIR, 'tensorflow_weights/prednet_kitti_weights.hdf5')\n",
    "json_file = os.path.join(WEIGHTS_DIR, 'prednet_kitti_model.json')\n",
    "test_file = os.path.join(DATA_DIR, 'X_test.hkl')\n",
    "test_sources = os.path.join(DATA_DIR, 'sources_test.hkl')\n",
    "\n",
    "# Load trained model\n",
    "f = open(json_file, 'r')\n",
    "json_string = f.read()\n",
    "f.close()\n",
    "train_model = model_from_json(json_string, custom_objects = {'PredNet': PredNet})\n",
    "train_model.load_weights(weights_file)"
   ]
  },
  {
   "cell_type": "code",
   "execution_count": 3,
   "metadata": {},
   "outputs": [],
   "source": [
    "# ----- define modified model with single image input ---------\n",
    "\n",
    "# Create testing model (to output predictions)\n",
    "layer_config = train_model.layers[1].get_config()\n",
    "#layer_config['output_mode'] = 'prediction'\n",
    "data_format = layer_config['data_format'] if 'data_format' in layer_config else layer_config['dim_ordering']\n",
    "test_prednet = PredNet(weights=train_model.layers[1].get_weights(), **layer_config)\n",
    "#input_shape = list(train_model.layers[0].batch_input_shape[1:])\n",
    "\n",
    "input_shape = list(train_model.layers[0].batch_input_shape[1:])\n",
    "input_shape[0] = nt\n",
    "inputs = Input(shape=tuple(input_shape))\n",
    "#inputs = Input(shape = (1,3,128,160))    # dim_1, channels, dim_2, dim_3\n",
    "copied_inputs = UpSampling3D(size = (10,1,1), data_format=\"channels_last\")(inputs)\n",
    "\n",
    "predictions = test_prednet(copied_inputs)\n",
    "test_model = Model(inputs=inputs, outputs=predictions)"
   ]
  },
  {
   "cell_type": "code",
   "execution_count": 4,
   "metadata": {},
   "outputs": [
    {
     "name": "stdout",
     "output_type": "stream",
     "text": [
      "_________________________________________________________________\n",
      "Layer (type)                 Output Shape              Param #   \n",
      "=================================================================\n",
      "input_1 (InputLayer)         (None, 1, 3, 128, 160)    0         \n",
      "_________________________________________________________________\n",
      "up_sampling3d_1 (UpSampling3 (None, 10, 3, 128, 160)   0         \n",
      "_________________________________________________________________\n",
      "prednet_1 (PredNet)          (None, 10, 4)             6915948   \n",
      "=================================================================\n",
      "Total params: 6,915,948\n",
      "Trainable params: 6,915,948\n",
      "Non-trainable params: 0\n",
      "_________________________________________________________________\n"
     ]
    }
   ],
   "source": [
    "# ------- Check everything is as it should be --------\n",
    "\n",
    "test_model.summary()"
   ]
  },
  {
   "cell_type": "code",
   "execution_count": 27,
   "metadata": {},
   "outputs": [],
   "source": [
    "# ------- define illusion generator function -------------\n",
    "\n",
    "\n",
    "\n",
    "def generate_illusion(model, input_image, loss, step_size, n_steps, save_interval):\n",
    "    \n",
    "    # model = the prednet model\n",
    "    # input_image.shape == [1,1,3,128,160] == [batch, frames, RGB channels, x, y]\n",
    "    # step_size = gradient ascent learning rate\n",
    "    # loss = the prednet output to maximize (i.e. a scalar defined from model.output)\n",
    "    # n_steps = total number of gradient ascent steps\n",
    "    # save_interval = number of gradient ascent steps per checkpoint\n",
    "    # folder_name = name of the sub folder to save illusions into\n",
    "    \n",
    "    # 0: Create the folder into which results are saved\n",
    "    \n",
    "    checkpoint_folder = os.path.join(os.getcwd(), datetime.now().strftime('%Y-%m-%d %H:%M:%S'))\n",
    "    os.makedirs(checkpoint_folder)\n",
    "\n",
    "    # 1: Define the computational graph - NB: loss should make sense for this to work!\n",
    "    \n",
    "    input_img = model.input\n",
    "    grads = K.gradients(loss, input_img)[0]\n",
    "    grads /= (K.sqrt(K.mean(K.square(grads))) + 1e-5)\n",
    "    iterate = K.function([input_img], [loss, grads])\n",
    "    \n",
    "    # 2: # run gradient ascent for n steps - checkpointing along the way\n",
    "    \n",
    "    illusion = input_image\n",
    "    counter = 0\n",
    "    for step in range(n_steps):\n",
    "        loss_value, grads_value = iterate([illusion])\n",
    "        illusion += grads_value * step_size\n",
    "\n",
    "        print('step:', step, ' loss:', loss_value)\n",
    "        \n",
    "        if step%save_interval == 0:\n",
    "            write_image = np.transpose(illusion[0,0,:,:,:],(1,2,0))\n",
    "            matplotlib.image.imsave(os.path.join(checkpoint_folder,str(counter)+\".png\"), write_image)\n",
    "            counter +=1\n",
    "    \n",
    "    "
   ]
  },
  {
   "cell_type": "code",
   "execution_count": null,
   "metadata": {},
   "outputs": [],
   "source": [
    "# --------- Example of how to set up a loss function and run the generator -----------\n",
    "\n",
    "# 0: Define an input image\n",
    "input_image = np.random.normal(size = [1,1,3,128,160])\n",
    "\n",
    "# 1: Define the loss function (NB this should be a scalar defined from the test model ouputs)\n",
    "loss = K.mean(test_model.output[0,0,:])\n",
    "\n",
    "# 2: Set the rest of the hyper-parameters\n",
    "step_size = 0.1\n",
    "n_steps = 5000\n",
    "save_interval = 50\n",
    "\n",
    "# 2: Run the generator\n",
    "generate_illusion(test_model, input_image, loss, step_size, n_steps, save_interval)"
   ]
  }
 ],
 "metadata": {
  "kernelspec": {
   "display_name": "Python 3",
   "language": "python",
   "name": "python3"
  },
  "language_info": {
   "codemirror_mode": {
    "name": "ipython",
    "version": 3
   },
   "file_extension": ".py",
   "mimetype": "text/x-python",
   "name": "python",
   "nbconvert_exporter": "python",
   "pygments_lexer": "ipython3",
   "version": "3.5.3"
  }
 },
 "nbformat": 4,
 "nbformat_minor": 2
}
