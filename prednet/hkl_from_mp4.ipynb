{
 "cells": [
  {
   "cell_type": "code",
   "execution_count": 1,
   "metadata": {},
   "outputs": [],
   "source": [
    "#!/usr/bin/python\n",
    "#coding:utf-8\n",
    "\n",
    "import cv2\n",
    "import numpy as np\n",
    "import hickle as hkl"
   ]
  },
  {
   "cell_type": "code",
   "execution_count": 16,
   "metadata": {},
   "outputs": [],
   "source": [
    "def produce_hkl_files(path, output_path1, output_path2):\n",
    "    vidcap = cv2.VideoCapture(path)\n",
    "    success, image = vidcap.read()\n",
    "    images = []\n",
    "\n",
    "    while True:\n",
    "        success, image = vidcap.read()\n",
    "        if not success:\n",
    "            break\n",
    "        resized_image = cv2.resize(image, (160,128))\n",
    "        images.append(resized_image)\n",
    "    \n",
    "    images = np.array(images)\n",
    "    source_file = []\n",
    "    for i in range(len(images)):\n",
    "        source_file.append('video')\n",
    "    \n",
    "    name1 = output_path1 + '.hkl'\n",
    "    name2 = output_path2 + '.hkl'\n",
    "    \n",
    "    hkl.dump(images,name1)\n",
    "    hkl.dump(source_file,name2)\n",
    "    return 'Successfully stored as ' + name1 + ' and ' + name2"
   ]
  },
  {
   "cell_type": "code",
   "execution_count": 17,
   "metadata": {},
   "outputs": [
    {
     "data": {
      "text/plain": [
       "'Successfully stored as train_test.hkl and source_test.hkl'"
      ]
     },
     "execution_count": 17,
     "metadata": {},
     "output_type": "execute_result"
    }
   ],
   "source": [
    "produce_hkl_files('../../Watanabe_paper_imagery/Test_data_propeller_L.MP4','train_test', 'source_test')"
   ]
  },
  {
   "cell_type": "code",
   "execution_count": 18,
   "metadata": {},
   "outputs": [
    {
     "data": {
      "text/plain": [
       "'Successfully stored as val_train_test.hkl and val_source_test.hkl'"
      ]
     },
     "execution_count": 18,
     "metadata": {},
     "output_type": "execute_result"
    }
   ],
   "source": [
    "produce_hkl_files('../../Watanabe_paper_imagery/Test_data_propeller_R.MP4','val_train_test', 'val_source_test')"
   ]
  }
 ],
 "metadata": {
  "kernelspec": {
   "display_name": "Python 3",
   "language": "python",
   "name": "python3"
  },
  "language_info": {
   "codemirror_mode": {
    "name": "ipython",
    "version": 3
   },
   "file_extension": ".py",
   "mimetype": "text/x-python",
   "name": "python",
   "nbconvert_exporter": "python",
   "pygments_lexer": "ipython3",
   "version": "3.7.3"
  }
 },
 "nbformat": 4,
 "nbformat_minor": 2
}
