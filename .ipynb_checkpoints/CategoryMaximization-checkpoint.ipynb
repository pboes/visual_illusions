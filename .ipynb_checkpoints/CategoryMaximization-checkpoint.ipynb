{
 "cells": [
  {
   "cell_type": "markdown",
   "metadata": {},
   "source": [
    "The goal of this notebook is to develop/understand the tools for generating an input which maximizes a particular categorical output.\n",
    "\n",
    "We start by training a feed forward neural network on MNIST images..."
   ]
  },
  {
   "cell_type": "code",
   "execution_count": 1,
   "metadata": {},
   "outputs": [
    {
     "name": "stderr",
     "output_type": "stream",
     "text": [
      "Using TensorFlow backend.\n"
     ]
    }
   ],
   "source": [
    "# ------- Imports -----------\n",
    "\n",
    "import numpy as np\n",
    "from numpy import random as rd\n",
    "\n",
    "import keras as K\n",
    "from keras.callbacks import EarlyStopping, ReduceLROnPlateau\n",
    "from keras.models import Sequential, Model\n",
    "from keras.regularizers import l1_l2\n",
    "from keras.layers import Dense, Dropout, Input\n",
    "from keras.optimizers import Adam\n",
    "from keras.datasets import mnist\n",
    "\n",
    "%matplotlib inline\n",
    "import matplotlib.pyplot as plt"
   ]
  },
  {
   "cell_type": "code",
   "execution_count": 2,
   "metadata": {},
   "outputs": [],
   "source": [
    "(x_train_images, y_train), (x_test_images, y_test) = mnist.load_data()\n",
    "\n",
    "num_training_instances = x_train_images.shape[0]\n",
    "num_test_instances = x_test_images.shape[0]\n",
    "\n",
    "image_width = x_train_images.shape[1]\n",
    "image_height = x_train_images.shape[2]\n",
    "\n",
    "num_categories = 10"
   ]
  },
  {
   "cell_type": "code",
   "execution_count": 3,
   "metadata": {},
   "outputs": [
    {
     "data": {
      "image/png": "[encoded data removed]",
      "text/plain": [
       "<Figure size 1080x360 with 18 Axes>"
      ]
     },
     "metadata": {},
     "output_type": "display_data"
    }
   ],
   "source": [
    "display_width = 6\n",
    "display_height = 3\n",
    "display_indices = rd.choice(num_training_instances,display_width*display_height,replace=False)\n",
    "\n",
    "fig, axes1 = plt.subplots(display_height,display_width,figsize=(15,5))\n",
    "counter = 0\n",
    "for j in range(display_height):\n",
    "    for k in range(display_width):\n",
    "        axes1[j][k].set_axis_off()\n",
    "        axes1[j][k].imshow(x_train_images[display_indices[counter],:,:], cmap = 'gray')\n",
    "        counter += 1"
   ]
  },
  {
   "cell_type": "code",
   "execution_count": 4,
   "metadata": {},
   "outputs": [
    {
     "name": "stdout",
     "output_type": "stream",
     "text": [
      "Training dataset shape: (60000, 784)\n",
      "Test dataset shape:     (10000, 784)\n"
     ]
    }
   ],
   "source": [
    "num_features = image_width*image_height\n",
    "\n",
    "x_train_vectors = np.reshape(x_train_images,[num_training_instances,num_features])/255\n",
    "x_test_vectors = np.reshape(x_test_images,[num_test_instances,num_features])/255\n",
    "\n",
    "print(\"Training dataset shape:\", x_train_vectors.shape )\n",
    "print(\"Test dataset shape:    \", x_test_vectors.shape )"
   ]
  },
  {
   "cell_type": "code",
   "execution_count": 5,
   "metadata": {},
   "outputs": [],
   "source": [
    "y_train_onehot = np.zeros((num_training_instances,num_categories))\n",
    "y_test_onehot = np.zeros((num_test_instances,num_categories))\n",
    "\n",
    "for j in range(num_training_instances):\n",
    "    y_train_onehot[j,y_train[j]] = 1\n",
    "    \n",
    "for j in range(num_test_instances):\n",
    "    y_test_onehot[j,y_test[j]] = 1"
   ]
  },
  {
   "cell_type": "code",
   "execution_count": 7,
   "metadata": {},
   "outputs": [],
   "source": [
    "def build_ffnn(ff_layers, num_features, num_outputs, learning_rate):\n",
    "    \"\"\"\"\n",
    "    This function builds and compiles a Feed Forward Neural Network. In particular it possible to specify\n",
    "    the structure of the feed forward layers arbitrarily, using the following convention:\n",
    "    \n",
    "      - ff_layers is a list of lists. Each inner list has the form [neurons, output_dropout]\n",
    "    \n",
    "    :param: num_features: the number of input features to the NN\n",
    "    :param: num_categories: The length of the target label\n",
    "    :param: ff_layers: A specification of the feed forward structure of the network, in the form given above.\n",
    "    :param: initial_lr: The initial lr for the optimizer\n",
    "    :return: nnet: The feed forward neural network, as a Keras sequential object  \n",
    "    \"\"\"\n",
    "    \n",
    "    inputs = Input(shape=(num_features,), name = \"Inputs\")\n",
    "    \n",
    "    dense_layers = []\n",
    "    dropout_layers = []\n",
    "    \n",
    "    for j in range(len(ff_layers)):\n",
    "        if j == 0:\n",
    "            dropout_layers.append(Dropout(rate=ff_layers[j][1],name=\"dropout_on_inputs\")(inputs))\n",
    "        else:\n",
    "            dropout_layers.append(Dropout(rate=ff_layers[j][1],name=\"dropout_on_dense_layer_\"+str(j))(dense_layers[j-1]))\n",
    "            \n",
    "        dense_layers.append(Dense(units=ff_layers[j][0], \n",
    "                            activation=\"relu\", \n",
    "                            name=\"dense_layer_\"+str(j+1))(dropout_layers[j]))\n",
    "    \n",
    "    outputs = Dense(units=num_outputs, activation=\"softmax\", name=\"Predictions\")(dense_layers[len(dense_layers)-1])\n",
    "    \n",
    "    ffnn = Model(inputs=inputs, outputs=outputs)\n",
    "    \n",
    "    ad_opt = Adam(lr=learning_rate)\n",
    "    ffnn.compile(optimizer=ad_opt,loss='categorical_crossentropy',metrics=['accuracy'])\n",
    "    \n",
    "    return ffnn"
   ]
  },
  {
   "cell_type": "code",
   "execution_count": 8,
   "metadata": {},
   "outputs": [
    {
     "name": "stdout",
     "output_type": "stream",
     "text": [
      "_________________________________________________________________\n",
      "Layer (type)                 Output Shape              Param #   \n",
      "=================================================================\n",
      "Inputs (InputLayer)          (None, 784)               0         \n",
      "_________________________________________________________________\n",
      "dropout_on_inputs (Dropout)  (None, 784)               0         \n",
      "_________________________________________________________________\n",
      "dense_layer_1 (Dense)        (None, 1000)              785000    \n",
      "_________________________________________________________________\n",
      "dropout_on_dense_layer_1 (Dr (None, 1000)              0         \n",
      "_________________________________________________________________\n",
      "dense_layer_2 (Dense)        (None, 500)               500500    \n",
      "_________________________________________________________________\n",
      "dropout_on_dense_layer_2 (Dr (None, 500)               0         \n",
      "_________________________________________________________________\n",
      "dense_layer_3 (Dense)        (None, 250)               125250    \n",
      "_________________________________________________________________\n",
      "Predictions (Dense)          (None, 10)                2510      \n",
      "=================================================================\n",
      "Total params: 1,413,260\n",
      "Trainable params: 1,413,260\n",
      "Non-trainable params: 0\n",
      "_________________________________________________________________\n"
     ]
    }
   ],
   "source": [
    "# ---- NN specification --------\n",
    "learning_rate = 0.001\n",
    "ff_layers = [[1000,0.1],[500,0.1],[250,0.1]]\n",
    "\n",
    "# ------ Build the network ------\n",
    "ffnn = build_ffnn(ff_layers, num_features, num_categories, learning_rate)\n",
    "ffnn.summary()"
   ]
  },
  {
   "cell_type": "code",
   "execution_count": 10,
   "metadata": {},
   "outputs": [],
   "source": [
    "# ------ Training Parameters -------\n",
    "\n",
    "batch_size = 128\n",
    "max_epochs = 100\n",
    "validation_split = 0.15\n",
    "stopping_patience = 6\n",
    "lr_decay_factor = 0.2\n",
    "lr_patience = 3\n",
    "lr_min = 0.0001\n",
    "lr_cooldown = 2\n",
    "\n",
    "# -------- Callbacks ----------------\n",
    "        \n",
    "early_stopping = EarlyStopping(monitor=\"val_acc\", mode='auto',patience=stopping_patience)\n",
    "\n",
    "LR_schedule = ReduceLROnPlateau(monitor=\"val_acc\", \n",
    "                                      factor=lr_decay_factor, \n",
    "                                      patience=lr_patience, \n",
    "                                      verbose=1, \n",
    "                                      mode='auto', \n",
    "                                      min_delta=0.0001, \n",
    "                                      cooldown=lr_cooldown, min_lr=lr_min)"
   ]
  },
  {
   "cell_type": "code",
   "execution_count": null,
   "metadata": {},
   "outputs": [
    {
     "name": "stdout",
     "output_type": "stream",
     "text": [
      "Train on 54000 samples, validate on 6000 samples\n",
      "Epoch 1/100\n",
      "42880/54000 [======================>.......] - ETA: 2s - loss: 0.2733 - acc: 0.9164"
     ]
    }
   ],
   "source": [
    "training_history = ffnn.fit(x_train_vectors, y_train_onehot, batch_size=batch_size, \n",
    "                          epochs=max_epochs, verbose=1, validation_split=0.1,callbacks = [early_stopping, LR_schedule])"
   ]
  },
  {
   "cell_type": "code",
   "execution_count": null,
   "metadata": {},
   "outputs": [],
   "source": []
  }
 ],
 "metadata": {
  "kernelspec": {
   "display_name": "Python 3",
   "language": "python",
   "name": "python3"
  },
  "language_info": {
   "codemirror_mode": {
    "name": "ipython",
    "version": 3
   },
   "file_extension": ".py",
   "mimetype": "text/x-python",
   "name": "python",
   "nbconvert_exporter": "python",
   "pygments_lexer": "ipython3",
   "version": "3.5.2"
  }
 },
 "nbformat": 4,
 "nbformat_minor": 2
}
