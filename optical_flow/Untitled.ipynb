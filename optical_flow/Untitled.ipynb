{
 "cells": [
  {
   "cell_type": "code",
   "execution_count": 2,
   "metadata": {},
   "outputs": [
    {
     "name": "stderr",
     "output_type": "stream",
     "text": [
      "usage: ipykernel_launcher.py [-h]\n",
      "ipykernel_launcher.py: error: unrecognized arguments: -f /Users/paulboes/Library/Jupyter/runtime/kernel-0aa4bd07-6558-445f-8eea-41501f14c1ef.json\n"
     ]
    },
    {
     "ename": "SystemExit",
     "evalue": "2",
     "output_type": "error",
     "traceback": [
      "An exception has occurred, use %tb to see the full traceback.\n",
      "\u001b[0;31mSystemExit\u001b[0m\u001b[0;31m:\u001b[0m 2\n"
     ]
    },
    {
     "name": "stderr",
     "output_type": "stream",
     "text": [
      "/Users/paulboes/.virtualenvs/illusion/lib/python3.6/site-packages/IPython/core/interactiveshell.py:2971: UserWarning: To exit: use 'exit', 'quit', or Ctrl-D.\n",
      "  warn(\"To exit: use 'exit', 'quit', or Ctrl-D.\", stacklevel=1)\n"
     ]
    }
   ],
   "source": [
    "import numpy as np\n",
    "import cv2\n",
    "import yaml\n",
    "import itertools\n",
    "import csv\n",
    "import argparse\n",
    "\n",
    "colormap = {'blue': [255, 0, 0], 'green': [0, 255, 0], 'red': [0, 0, 255],\n",
    "            'yellow': [0, 255, 255], 'white': [255, 255, 255]}\n",
    "parser = argparse.ArgumentParser(description='Calculate optical flow.')\n",
    "#parser.add_argument('image1', type=str, help='Input image No1.')\n",
    "#parser.add_argument('image2', type=str, help='Input image No2.')\n",
    "#parser.add_argument('--method', '-m', type=str, default='lk', choices=['lk', 'fb'], help='Select a method.')\n",
    "#parser.add_argument('--circle_color', '-cc', type=str, default='red', choices=colormap.keys(), help='Select a color for circle.')\n",
    "#parser.add_argument('--line_color', '-lc', type=str, default='red', choices=colormap.keys(), help='Select a color for line.')\n",
    "#parser.add_argument('--vector_scale', '-vs', type=float, default=1.0, help='Scale saving vector data.')\n",
    "#parser.add_argument('--size', '-s', type=int, default=5, help='Size of original point marker.')\n",
    "#parser.add_argument('--line', '-l', type=int, default=2, help='Width of vector line.')\n",
    "args = parser.parse_args()\n",
    "config = yaml.load(open('config.yaml'))\n",
    "\n"
   ]
  },
  {
   "cell_type": "code",
   "execution_count": null,
   "metadata": {},
   "outputs": [],
   "source": [
    "def lucas_kanade(file1, file2):\n",
    "    conf = config['LucasKanade']\n",
    "    # params for ShiTomasi corner detection\n",
    "    feature_params = dict(maxCorners = 100,\n",
    "                          qualityLevel = conf['quality_level'],\n",
    "                          minDistance = 7,\n",
    "                          blockSize = 7)\n",
    "\n",
    "    # Parameters for lucas kanade optical flow\n",
    "    lk_params = dict(winSize = (conf['window_size'],\n",
    "                                conf['window_size']),\n",
    "                     maxLevel = 2,\n",
    "                     criteria = (cv2.TERM_CRITERIA_EPS | cv2.TERM_CRITERIA_COUNT, 10, 0.03))\n",
    "\n",
    "    img1 = cv2.imread(file1)\n",
    "    img2 = cv2.imread(file2)\n",
    "    img1_gray = cv2.cvtColor(img1, cv2.COLOR_BGR2GRAY)\n",
    "    img2_gray = cv2.cvtColor(img2, cv2.COLOR_BGR2GRAY)\n",
    "    p0 = cv2.goodFeaturesToTrack(img1_gray, mask = None, **feature_params)\n",
    "    mask = np.zeros_like(img1)\n",
    "    p1, st, err = cv2.calcOpticalFlowPyrLK(img1_gray, img2_gray, p0, None, **lk_params)\n",
    "\n",
    "    good_new = p1[st==1]\n",
    "    good_old = p0[st==1]\n",
    "\n",
    "    # draw the tracks\n",
    "    data = []\n",
    "    for i, (new, old) in enumerate(zip(good_new, good_old)):\n",
    "        a, b = new.ravel()\n",
    "        c, d = old.ravel()\n",
    "        dx = args.vector_scale * (a - c)\n",
    "        dy = args.vector_scale * (b - d)\n",
    "        cv2.line(mask, (c, d), (int(c + dx), int(d + dy)), colormap[args.line_color], args.line)\n",
    "        cv2.line(img2, (c, d), (int(c + dx), int(d + dy)), colormap[args.line_color], args.line)\n",
    "        cv2.circle(mask, (c, d), args.size, colormap[args.circle_color], -1)\n",
    "        cv2.circle(img2, (c, d), args.size, colormap[args.circle_color], -1)\n",
    "        data.append([c, d, dx, dy])\n",
    "\n",
    "    cv2.imwrite('vectors.png', mask)\n",
    "    cv2.imwrite('result.png', img2)\n",
    "    with open('data.csv', 'w') as f:\n",
    "        writer = csv.writer(f, lineterminator='\\n')\n",
    "        writer.writerows(data)\n",
    "\n",
    "def farneback(file1, file2):\n",
    "    conf = config['Farneback']\n",
    "    frame1 = cv2.imread(file1)\n",
    "    prv = cv2.cvtColor(frame1, cv2.COLOR_BGR2GRAY)\n",
    "    mask = np.zeros_like(frame1)\n",
    "    frame2 = cv2.imread(file2)\n",
    "    nxt = cv2.cvtColor(frame2, cv2.COLOR_BGR2GRAY)\n",
    "\n",
    "    flow = cv2.calcOpticalFlowFarneback(prv, nxt, 0.5, 3,\n",
    "                                        conf['window_size'],\n",
    "                                        3, 5, 1.1, 0)\n",
    "    height, width = prv.shape\n",
    "\n",
    "    data = []\n",
    "    for x, y in itertools.product(range(0, width, conf['stride']),\n",
    "                                  range(0, height, conf['stride'])):\n",
    "        if np.linalg.norm(flow[y, x]) >= conf['min_vec']:\n",
    "            dy, dx = flow[y, x].astype(int)\n",
    "            dx = args.vector_scale * dx\n",
    "            dy = args.vector_scale * dy\n",
    "            cv2.line(mask, (x, y), (x + int(dx), y + int(dy)), colormap[args.line_color], args.line)\n",
    "            cv2.line(frame2, (x, y), (x + int(dx), y + int(dy)), colormap[args.line_color], args.line)\n",
    "            cv2.circle(mask, (x, y), args.size, colormap[args.circle_color], -1)\n",
    "            cv2.circle(frame2, (x, y), args.size, colormap[args.circle_color], -1)\n",
    "            data.append([x, y, dx, dy])\n",
    "    cv2.imwrite('vectors.png', mask)\n",
    "    cv2.imwrite('result.png', frame2)\n",
    "    with open('data.csv', 'w') as f:\n",
    "        writer = csv.writer(f, lineterminator='\\n')\n",
    "        writer.writerows(data)\n",
    "\n",
    "if __name__ == \"__main__\":\n",
    "    if args.method == 'lk':\n",
    "        lucas_kanade(args.image1, args.image2)\n",
    "    elif args.method == 'fb':\n",
    "        farneback(args.image1, args.image2)\n",
    "\n",
    "\n"
   ]
  }
 ],
 "metadata": {
  "kernelspec": {
   "display_name": "Python 3",
   "language": "python",
   "name": "python3"
  },
  "language_info": {
   "codemirror_mode": {
    "name": "ipython",
    "version": 3
   },
   "file_extension": ".py",
   "mimetype": "text/x-python",
   "name": "python",
   "nbconvert_exporter": "python",
   "pygments_lexer": "ipython3",
   "version": "3.6.0"
  }
 },
 "nbformat": 4,
 "nbformat_minor": 2
}
