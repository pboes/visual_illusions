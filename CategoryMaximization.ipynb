{
 "cells": [
  {
   "cell_type": "markdown",
   "metadata": {},
   "source": [
    "The goal of this notebook is to develop/understand the tools for generating an input which maximizes a particular categorical output.\n",
    "\n",
    "We start by training a feed forward neural network on MNIST images..."
   ]
  },
  {
   "cell_type": "code",
   "execution_count": 137,
   "metadata": {},
   "outputs": [],
   "source": [
    "# ------- Imports -----------\n",
    "\n",
    "import numpy as np\n",
    "from numpy import random as rd\n",
    "\n",
    "import keras as K\n",
    "from keras.callbacks import EarlyStopping, ReduceLROnPlateau\n",
    "from keras.models import Sequential, Model\n",
    "from keras.regularizers import l1_l2\n",
    "from keras.layers import Dense, Dropout, Input, Activation, Flatten \n",
    "from keras.layers import Conv2D, MaxPooling2D, ZeroPadding2D, GlobalAveragePooling2D\n",
    "from keras.layers.normalization import BatchNormalization\n",
    "from keras.optimizers import Adam\n",
    "from keras.datasets import mnist\n",
    "from keras import backend as KB\n",
    "from keras.layers.advanced_activations import LeakyReLU \n",
    "from keras.preprocessing.image import ImageDataGenerator\n",
    "from keras.utils import np_utils\n",
    "import copy"
   ]
  },
  {
   "cell_type": "code",
   "execution_count": 2,
   "metadata": {},
   "outputs": [],
   "source": [
    "(x_train_images, y_train), (x_test_images, y_test) = mnist.load_data()\n",
    "\n",
    "num_training_instances = x_train_images.shape[0]\n",
    "num_test_instances = x_test_images.shape[0]\n",
    "\n",
    "image_width = x_train_images.shape[1]\n",
    "image_height = x_train_images.shape[2]\n",
    "\n",
    "num_categories = 10"
   ]
  },
  {
   "cell_type": "code",
   "execution_count": 3,
   "metadata": {},
   "outputs": [
    {
     "data": {
      "image/png": "[encoded data removed]",
      "text/plain": [
       "<Figure size 1080x360 with 18 Axes>"
      ]
     },
     "metadata": {},
     "output_type": "display_data"
    }
   ],
   "source": [
    "display_width = 6\n",
    "display_height = 3\n",
    "display_indices = rd.choice(num_training_instances,display_width*display_height,replace=False)\n",
    "\n",
    "fig, axes1 = plt.subplots(display_height,display_width,figsize=(15,5))\n",
    "counter = 0\n",
    "for j in range(display_height):\n",
    "    for k in range(display_width):\n",
    "        axes1[j][k].set_axis_off()\n",
    "        axes1[j][k].imshow(x_train_images[display_indices[counter],:,:], cmap = 'gray')\n",
    "        counter += 1"
   ]
  },
  {
   "cell_type": "code",
   "execution_count": 4,
   "metadata": {},
   "outputs": [
    {
     "name": "stdout",
     "output_type": "stream",
     "text": [
      "Training dataset shape: (60000, 784)\n",
      "Test dataset shape:     (10000, 784)\n"
     ]
    }
   ],
   "source": [
    "num_features = image_width*image_height\n",
    "\n",
    "x_train_vectors = np.reshape(x_train_images,[num_training_instances,num_features])/255\n",
    "x_test_vectors = np.reshape(x_test_images,[num_test_instances,num_features])/255\n",
    "\n",
    "print(\"Training dataset shape:\", x_train_vectors.shape )\n",
    "print(\"Test dataset shape:    \", x_test_vectors.shape )"
   ]
  },
  {
   "cell_type": "code",
   "execution_count": 5,
   "metadata": {},
   "outputs": [],
   "source": [
    "y_train_onehot = np.zeros((num_training_instances,num_categories))\n",
    "y_test_onehot = np.zeros((num_test_instances,num_categories))\n",
    "\n",
    "for j in range(num_training_instances):\n",
    "    y_train_onehot[j,y_train[j]] = 1\n",
    "    \n",
    "for j in range(num_test_instances):\n",
    "    y_test_onehot[j,y_test[j]] = 1"
   ]
  },
  {
   "cell_type": "code",
   "execution_count": 7,
   "metadata": {},
   "outputs": [],
   "source": [
    "def build_ffnn(ff_layers, num_features, num_outputs, learning_rate):\n",
    "    \"\"\"\"\n",
    "    This function builds and compiles a Feed Forward Neural Network. In particular it possible to specify\n",
    "    the structure of the feed forward layers arbitrarily, using the following convention:\n",
    "    \n",
    "      - ff_layers is a list of lists. Each inner list has the form [neurons, output_dropout]\n",
    "    \n",
    "    :param: num_features: the number of input features to the NN\n",
    "    :param: num_categories: The length of the target label\n",
    "    :param: ff_layers: A specification of the feed forward structure of the network, in the form given above.\n",
    "    :param: initial_lr: The initial lr for the optimizer\n",
    "    :return: nnet: The feed forward neural network, as a Keras sequential object  \n",
    "    \"\"\"\n",
    "    \n",
    "    inputs = Input(shape=(num_features,), name = \"Inputs\")\n",
    "    \n",
    "    dense_layers = []\n",
    "    dropout_layers = []\n",
    "    \n",
    "    for j in range(len(ff_layers)):\n",
    "        if j == 0:\n",
    "            dropout_layers.append(Dropout(rate=ff_layers[j][1],name=\"dropout_on_inputs\")(inputs))\n",
    "        else:\n",
    "            dropout_layers.append(Dropout(rate=ff_layers[j][1],name=\"dropout_on_dense_layer_\"+str(j))(dense_layers[j-1]))\n",
    "            \n",
    "        dense_layers.append(Dense(units=ff_layers[j][0], \n",
    "                            activation=\"relu\", \n",
    "                            name=\"dense_layer_\"+str(j+1))(dropout_layers[j]))\n",
    "    \n",
    "    outputs = Dense(units=num_outputs, activation=\"softmax\", name=\"Predictions\")(dense_layers[len(dense_layers)-1])\n",
    "    \n",
    "    ffnn = Model(inputs=inputs, outputs=outputs)\n",
    "    \n",
    "    ad_opt = Adam(lr=learning_rate)\n",
    "    ffnn.compile(optimizer=ad_opt,loss='categorical_crossentropy',metrics=['accuracy'])\n",
    "    \n",
    "    return ffnn"
   ]
  },
  {
   "cell_type": "code",
   "execution_count": 8,
   "metadata": {},
   "outputs": [
    {
     "name": "stdout",
     "output_type": "stream",
     "text": [
      "_________________________________________________________________\n",
      "Layer (type)                 Output Shape              Param #   \n",
      "=================================================================\n",
      "Inputs (InputLayer)          (None, 784)               0         \n",
      "_________________________________________________________________\n",
      "dropout_on_inputs (Dropout)  (None, 784)               0         \n",
      "_________________________________________________________________\n",
      "dense_layer_1 (Dense)        (None, 1000)              785000    \n",
      "_________________________________________________________________\n",
      "dropout_on_dense_layer_1 (Dr (None, 1000)              0         \n",
      "_________________________________________________________________\n",
      "dense_layer_2 (Dense)        (None, 500)               500500    \n",
      "_________________________________________________________________\n",
      "dropout_on_dense_layer_2 (Dr (None, 500)               0         \n",
      "_________________________________________________________________\n",
      "dense_layer_3 (Dense)        (None, 250)               125250    \n",
      "_________________________________________________________________\n",
      "Predictions (Dense)          (None, 10)                2510      \n",
      "=================================================================\n",
      "Total params: 1,413,260\n",
      "Trainable params: 1,413,260\n",
      "Non-trainable params: 0\n",
      "_________________________________________________________________\n"
     ]
    }
   ],
   "source": [
    "# ---- NN specification --------\n",
    "learning_rate = 0.001\n",
    "ff_layers = [[1000,0.1],[500,0.1],[250,0.1]]\n",
    "\n",
    "# ------ Build the network ------\n",
    "ffnn = build_ffnn(ff_layers, num_features, num_categories, learning_rate)\n",
    "ffnn.summary()"
   ]
  },
  {
   "cell_type": "code",
   "execution_count": 10,
   "metadata": {},
   "outputs": [],
   "source": [
    "# ------ Training Parameters -------\n",
    "\n",
    "batch_size = 128\n",
    "max_epochs = 100\n",
    "validation_split = 0.15\n",
    "stopping_patience = 6\n",
    "lr_decay_factor = 0.2\n",
    "lr_patience = 3\n",
    "lr_min = 0.0001\n",
    "lr_cooldown = 2\n",
    "\n",
    "# -------- Callbacks ----------------\n",
    "        \n",
    "early_stopping = EarlyStopping(monitor=\"val_acc\", mode='auto',patience=stopping_patience)\n",
    "\n",
    "LR_schedule = ReduceLROnPlateau(monitor=\"val_acc\", \n",
    "                                      factor=lr_decay_factor, \n",
    "                                      patience=lr_patience, \n",
    "                                      verbose=1, \n",
    "                                      mode='auto', \n",
    "                                      min_delta=0.0001, \n",
    "                                      cooldown=lr_cooldown, min_lr=lr_min)"
   ]
  },
  {
   "cell_type": "code",
   "execution_count": 11,
   "metadata": {},
   "outputs": [
    {
     "name": "stdout",
     "output_type": "stream",
     "text": [
      "Train on 54000 samples, validate on 6000 samples\n",
      "Epoch 1/100\n",
      "54000/54000 [==============================] - 13s 245us/step - loss: 0.2468 - acc: 0.9242 - val_loss: 0.0886 - val_acc: 0.9730\n",
      "Epoch 2/100\n",
      "54000/54000 [==============================] - 13s 243us/step - loss: 0.1021 - acc: 0.9686 - val_loss: 0.0774 - val_acc: 0.9770\n",
      "Epoch 3/100\n",
      "54000/54000 [==============================] - 14s 257us/step - loss: 0.0743 - acc: 0.9761 - val_loss: 0.0760 - val_acc: 0.9763\n",
      "Epoch 4/100\n",
      "54000/54000 [==============================] - 14s 259us/step - loss: 0.0610 - acc: 0.9810 - val_loss: 0.0678 - val_acc: 0.9817\n",
      "Epoch 5/100\n",
      "54000/54000 [==============================] - 14s 251us/step - loss: 0.0509 - acc: 0.9843 - val_loss: 0.0626 - val_acc: 0.9795\n",
      "Epoch 6/100\n",
      "54000/54000 [==============================] - 13s 242us/step - loss: 0.0456 - acc: 0.9849 - val_loss: 0.0764 - val_acc: 0.9780\n",
      "Epoch 7/100\n",
      "54000/54000 [==============================] - 13s 241us/step - loss: 0.0378 - acc: 0.9876 - val_loss: 0.0668 - val_acc: 0.9830\n",
      "Epoch 8/100\n",
      "54000/54000 [==============================] - 14s 256us/step - loss: 0.0350 - acc: 0.9890 - val_loss: 0.0725 - val_acc: 0.9798\n",
      "Epoch 9/100\n",
      "54000/54000 [==============================] - 14s 250us/step - loss: 0.0320 - acc: 0.9893 - val_loss: 0.0622 - val_acc: 0.9842\n",
      "Epoch 10/100\n",
      "54000/54000 [==============================] - 13s 245us/step - loss: 0.0286 - acc: 0.9907 - val_loss: 0.0647 - val_acc: 0.9835\n",
      "Epoch 11/100\n",
      "54000/54000 [==============================] - 13s 244us/step - loss: 0.0265 - acc: 0.9911 - val_loss: 0.0786 - val_acc: 0.9815\n",
      "Epoch 12/100\n",
      "54000/54000 [==============================] - 13s 240us/step - loss: 0.0247 - acc: 0.9923 - val_loss: 0.0713 - val_acc: 0.9843\n",
      "Epoch 13/100\n",
      "54000/54000 [==============================] - 13s 242us/step - loss: 0.0230 - acc: 0.9927 - val_loss: 0.0783 - val_acc: 0.9828\n",
      "Epoch 14/100\n",
      "54000/54000 [==============================] - 13s 243us/step - loss: 0.0242 - acc: 0.9922 - val_loss: 0.0654 - val_acc: 0.9855\n",
      "Epoch 15/100\n",
      "54000/54000 [==============================] - 13s 241us/step - loss: 0.0213 - acc: 0.9931 - val_loss: 0.0719 - val_acc: 0.9835\n",
      "Epoch 16/100\n",
      "54000/54000 [==============================] - 13s 248us/step - loss: 0.0205 - acc: 0.9933 - val_loss: 0.0739 - val_acc: 0.9820\n",
      "Epoch 17/100\n",
      "54000/54000 [==============================] - 14s 258us/step - loss: 0.0195 - acc: 0.9939 - val_loss: 0.0698 - val_acc: 0.9845\n",
      "\n",
      "Epoch 00017: ReduceLROnPlateau reducing learning rate to 0.00020000000949949026.\n",
      "Epoch 18/100\n",
      "54000/54000 [==============================] - 14s 260us/step - loss: 0.0073 - acc: 0.9976 - val_loss: 0.0604 - val_acc: 0.9882\n",
      "Epoch 19/100\n",
      "54000/54000 [==============================] - 14s 256us/step - loss: 0.0042 - acc: 0.9987 - val_loss: 0.0623 - val_acc: 0.9868\n",
      "Epoch 20/100\n",
      "54000/54000 [==============================] - 14s 254us/step - loss: 0.0032 - acc: 0.9990 - val_loss: 0.0673 - val_acc: 0.9865\n",
      "Epoch 21/100\n",
      "54000/54000 [==============================] - 14s 259us/step - loss: 0.0030 - acc: 0.9990 - val_loss: 0.0687 - val_acc: 0.9870\n",
      "\n",
      "Epoch 00021: ReduceLROnPlateau reducing learning rate to 0.0001.\n",
      "Epoch 22/100\n",
      "54000/54000 [==============================] - 14s 264us/step - loss: 0.0027 - acc: 0.9992 - val_loss: 0.0679 - val_acc: 0.9882\n",
      "Epoch 23/100\n",
      "54000/54000 [==============================] - 14s 266us/step - loss: 0.0018 - acc: 0.9994 - val_loss: 0.0689 - val_acc: 0.9878\n",
      "Epoch 24/100\n",
      "54000/54000 [==============================] - 15s 274us/step - loss: 0.0023 - acc: 0.9994 - val_loss: 0.0691 - val_acc: 0.9887\n",
      "Epoch 25/100\n",
      "54000/54000 [==============================] - 14s 266us/step - loss: 0.0015 - acc: 0.9995 - val_loss: 0.0725 - val_acc: 0.9870\n",
      "Epoch 26/100\n",
      "54000/54000 [==============================] - 14s 266us/step - loss: 0.0019 - acc: 0.9993 - val_loss: 0.0686 - val_acc: 0.9880\n",
      "Epoch 27/100\n",
      "54000/54000 [==============================] - 14s 258us/step - loss: 0.0017 - acc: 0.9995 - val_loss: 0.0721 - val_acc: 0.9893\n",
      "Epoch 28/100\n",
      "54000/54000 [==============================] - 15s 272us/step - loss: 0.0014 - acc: 0.9996 - val_loss: 0.0751 - val_acc: 0.9868\n",
      "Epoch 29/100\n",
      "54000/54000 [==============================] - 14s 263us/step - loss: 0.0022 - acc: 0.9992 - val_loss: 0.0734 - val_acc: 0.9878\n",
      "Epoch 30/100\n",
      "54000/54000 [==============================] - 14s 267us/step - loss: 0.0017 - acc: 0.9994 - val_loss: 0.0722 - val_acc: 0.9880\n",
      "Epoch 31/100\n",
      "54000/54000 [==============================] - 14s 267us/step - loss: 0.0017 - acc: 0.9994 - val_loss: 0.0754 - val_acc: 0.9880\n",
      "Epoch 32/100\n",
      "54000/54000 [==============================] - 14s 266us/step - loss: 0.0018 - acc: 0.9994 - val_loss: 0.0718 - val_acc: 0.9878\n",
      "Epoch 33/100\n",
      "54000/54000 [==============================] - 14s 265us/step - loss: 9.3217e-04 - acc: 0.9996 - val_loss: 0.0719 - val_acc: 0.9890\n"
     ]
    }
   ],
   "source": [
    "training_history = ffnn.fit(x_train_vectors, y_train_onehot, batch_size=batch_size, \n",
    "                          epochs=max_epochs, verbose=1, validation_split=0.1,callbacks = [early_stopping, LR_schedule])"
   ]
  },
  {
   "cell_type": "markdown",
   "metadata": {},
   "source": [
    "Ok, great, now we want to do \"gradient ascent\" for categorical maximization:"
   ]
  },
  {
   "cell_type": "code",
   "execution_count": 16,
   "metadata": {},
   "outputs": [],
   "source": [
    "output_index = 3\n",
    "\n",
    "# define a placeholder for the input image_vector (the flattened image)\n",
    "input_img_vec = ffnn.input\n",
    "\n",
    "# define the loss function - which is precisely just the mean of the probability of the given character across the batch\n",
    "loss = KB.mean(ffnn.output[:, output_index])\n",
    "\n",
    "# compute the gradient of the input picture wrt this loss\n",
    "grads = KB.gradients(loss, input_img_vec)[0]\n",
    "\n",
    "# normalization trick: we normalize the gradient\n",
    "grads /= (KB.sqrt(KB.mean(KB.square(grads))) + 1e-5)\n",
    "\n",
    "# this function returns the loss and grads given the input picture\n",
    "iterate = KB.function([input_img_vec], [loss, grads])"
   ]
  },
  {
   "cell_type": "code",
   "execution_count": 40,
   "metadata": {},
   "outputs": [],
   "source": [
    "def vec_2_im(vec):\n",
    "    return np.reshape(vec,[28,28])"
   ]
  },
  {
   "cell_type": "code",
   "execution_count": 124,
   "metadata": {},
   "outputs": [
    {
     "data": {
      "image/png": "[encoded data removed]",
      "text/plain": [
       "<Figure size 432x288 with 1 Axes>"
      ]
     },
     "metadata": {},
     "output_type": "display_data"
    },
    {
     "data": {
      "image/png": "[encoded data removed]",
      "text/plain": [
       "<Figure size 432x288 with 1 Axes>"
      ]
     },
     "metadata": {},
     "output_type": "display_data"
    }
   ],
   "source": [
    "# we start from a gray image with some noise\n",
    "input_img_data = np.random.normal(size = (784))[None]\n",
    "pre_image = copy.copy(input_img_data) \n",
    "\n",
    "# show the image\n",
    "plt.imshow(vec_2_im(input_img_data),cmap=\"gray\")\n",
    "plt.axis(\"off\")\n",
    "plt.show()\n",
    "\n",
    "# plot the predictions of the neural net for this random image\n",
    "original_preds = ffnn.predict(pre_image)\n",
    "_ = plt.plot(original_preds[0,:])\n",
    "_ = plt.plot(original_preds[0,:],'x')\n",
    "plt.show()"
   ]
  },
  {
   "cell_type": "code",
   "execution_count": 125,
   "metadata": {},
   "outputs": [
    {
     "name": "stdout",
     "output_type": "stream",
     "text": [
      "Current loss value: 0.0046229525\n",
      "Current loss value: 0.99770266\n",
      "Current loss value: 1.0\n",
      "Current loss value: 1.0\n",
      "Current loss value: 1.0\n",
      "Current loss value: 1.0\n",
      "Current loss value: 1.0\n",
      "Current loss value: 1.0\n",
      "Current loss value: 1.0\n",
      "Current loss value: 1.0\n"
     ]
    }
   ],
   "source": [
    "# run gradient ascent for n steps\n",
    "n = 10\n",
    "step = 0.05\n",
    "for i in range(n):\n",
    "    loss_value, grads_value = iterate([input_img_data])\n",
    "    input_img_data += grads_value * step\n",
    "\n",
    "    print('Current loss value:', loss_value)"
   ]
  },
  {
   "cell_type": "code",
   "execution_count": 128,
   "metadata": {},
   "outputs": [
    {
     "data": {
      "image/png": "[encoded data removed]",
      "text/plain": [
       "<Figure size 432x288 with 1 Axes>"
      ]
     },
     "metadata": {},
     "output_type": "display_data"
    },
    {
     "data": {
      "image/png": "[encoded data removed]",
      "text/plain": [
       "<Figure size 432x288 with 1 Axes>"
      ]
     },
     "metadata": {},
     "output_type": "display_data"
    }
   ],
   "source": [
    "# plot the generated image\n",
    "plt.imshow(vec_2_im(input_img_data),cmap=\"gray\")\n",
    "plt.axis(\"off\")\n",
    "plt.show()\n",
    "\n",
    "# plot the predictions of the neural network for the generated image\n",
    "new_preds = ffnn.predict(input_img_data)\n",
    "_ = plt.plot(new_preds[0,:])\n",
    "_ = plt.plot(new_preds[0,:],'x')"
   ]
  },
  {
   "cell_type": "markdown",
   "metadata": {},
   "source": [
    "I would like to repeat this excercise with a convolutional neural network, to see if anything changes - i.e. it would be nice if we actually managed to generate images - this may just not be possible with MNIST images (i.e. the distance between random noise images and numbers via the metric of output probability might just be too close...)\n",
    "\n",
    "We start by building the convnet (hopefully a sequential object will also work...)"
   ]
  },
  {
   "cell_type": "code",
   "execution_count": 133,
   "metadata": {},
   "outputs": [],
   "source": [
    "# We start off by specifying that our cnn is a Sequential object\n",
    "cnn = Sequential()\n",
    "\n",
    "# Add the first conv layer:\n",
    "cnn.add(Conv2D(32, (3, 3), input_shape=(28,28,1)))\n",
    "cnn.add(Activation('relu'))\n",
    "\n",
    "# We also use batch normalization between conv layers - see here https://arxiv.org/abs/1502.03167\n",
    "BatchNormalization(axis=-1)\n",
    "\n",
    "# Another conv layer\n",
    "cnn.add(Conv2D(32, (3, 3)))\n",
    "cnn.add(Activation('relu'))\n",
    "\n",
    "# Max Pooling (Coarse Graining)\n",
    "cnn.add(MaxPooling2D(pool_size=(2,2)))\n",
    "\n",
    "# etc...\n",
    "BatchNormalization(axis=-1)\n",
    "cnn.add(Conv2D(64,(3, 3)))\n",
    "cnn.add(Activation('relu'))\n",
    "BatchNormalization(axis=-1)\n",
    "cnn.add(Conv2D(64, (3, 3)))\n",
    "cnn.add(Activation('relu'))\n",
    "cnn.add(MaxPooling2D(pool_size=(2,2)))\n",
    "\n",
    "# Finally, we flatten the output of the last conv layer, so that it can be fed into fully connected layers...\n",
    "cnn.add(Flatten())\n",
    "\n",
    "# Fully connected layers - a FFNN on top of the conv layers\n",
    "BatchNormalization()\n",
    "cnn.add(Dense(512))\n",
    "cnn.add(Activation('relu'))\n",
    "BatchNormalization()\n",
    "cnn.add(Dropout(0.2))\n",
    "cnn.add(Dense(10))\n",
    "\n",
    "# We use a softmax as the final activation (ensures a legitimate probability distribution)\n",
    "cnn.add(Activation('softmax'))"
   ]
  },
  {
   "cell_type": "code",
   "execution_count": 139,
   "metadata": {},
   "outputs": [
    {
     "name": "stdout",
     "output_type": "stream",
     "text": [
      "_________________________________________________________________\n",
      "Layer (type)                 Output Shape              Param #   \n",
      "=================================================================\n",
      "conv2d_2 (Conv2D)            (None, 26, 26, 32)        320       \n",
      "_________________________________________________________________\n",
      "activation_2 (Activation)    (None, 26, 26, 32)        0         \n",
      "_________________________________________________________________\n",
      "conv2d_3 (Conv2D)            (None, 24, 24, 32)        9248      \n",
      "_________________________________________________________________\n",
      "activation_3 (Activation)    (None, 24, 24, 32)        0         \n",
      "_________________________________________________________________\n",
      "max_pooling2d_1 (MaxPooling2 (None, 12, 12, 32)        0         \n",
      "_________________________________________________________________\n",
      "conv2d_4 (Conv2D)            (None, 10, 10, 64)        18496     \n",
      "_________________________________________________________________\n",
      "activation_4 (Activation)    (None, 10, 10, 64)        0         \n",
      "_________________________________________________________________\n",
      "conv2d_5 (Conv2D)            (None, 8, 8, 64)          36928     \n",
      "_________________________________________________________________\n",
      "activation_5 (Activation)    (None, 8, 8, 64)          0         \n",
      "_________________________________________________________________\n",
      "max_pooling2d_2 (MaxPooling2 (None, 4, 4, 64)          0         \n",
      "_________________________________________________________________\n",
      "flatten_1 (Flatten)          (None, 1024)              0         \n",
      "_________________________________________________________________\n",
      "dense_1 (Dense)              (None, 512)               524800    \n",
      "_________________________________________________________________\n",
      "activation_6 (Activation)    (None, 512)               0         \n",
      "_________________________________________________________________\n",
      "dropout_1 (Dropout)          (None, 512)               0         \n",
      "_________________________________________________________________\n",
      "dense_2 (Dense)              (None, 10)                5130      \n",
      "_________________________________________________________________\n",
      "activation_7 (Activation)    (None, 10)                0         \n",
      "=================================================================\n",
      "Total params: 594,922\n",
      "Trainable params: 594,922\n",
      "Non-trainable params: 0\n",
      "_________________________________________________________________\n"
     ]
    }
   ],
   "source": [
    "cnn.summary()"
   ]
  },
  {
   "cell_type": "code",
   "execution_count": 135,
   "metadata": {},
   "outputs": [
    {
     "data": {
      "text/plain": [
       "(60000, 28, 28, 1)"
      ]
     },
     "execution_count": 135,
     "metadata": {},
     "output_type": "execute_result"
    }
   ],
   "source": [
    "# data processing...\n",
    "(X_train, y_train), (X_test, y_test) = mnist.load_data()\n",
    "\n",
    "X_train = X_train.reshape(X_train.shape[0], 28, 28, 1)\n",
    "X_test = X_test.reshape(X_test.shape[0], 28, 28, 1)\n",
    "\n",
    "X_train = X_train.astype('float32')\n",
    "X_test = X_test.astype('float32')\n",
    "\n",
    "X_train/=255\n",
    "X_test/=255\n",
    "\n",
    "X_train.shape"
   ]
  },
  {
   "cell_type": "code",
   "execution_count": 138,
   "metadata": {},
   "outputs": [
    {
     "data": {
      "text/plain": [
       "(5, array([0., 0., 0., 0., 0., 1., 0., 0., 0., 0.], dtype=float32))"
      ]
     },
     "execution_count": 138,
     "metadata": {},
     "output_type": "execute_result"
    }
   ],
   "source": [
    "number_of_classes = 10\n",
    "\n",
    "Y_train = np_utils.to_categorical(y_train, number_of_classes)\n",
    "Y_test = np_utils.to_categorical(y_test, number_of_classes)\n",
    "\n",
    "y_train[0], Y_train[0]"
   ]
  },
  {
   "cell_type": "code",
   "execution_count": 140,
   "metadata": {},
   "outputs": [],
   "source": [
    "cnn.compile(loss='categorical_crossentropy', optimizer=Adam(), metrics=['accuracy'])"
   ]
  },
  {
   "cell_type": "code",
   "execution_count": 141,
   "metadata": {},
   "outputs": [],
   "source": [
    "gen = ImageDataGenerator(rotation_range=8, width_shift_range=0.08, shear_range=0.3,\n",
    "                         height_shift_range=0.08, zoom_range=0.08)\n",
    "\n",
    "test_gen = ImageDataGenerator()\n",
    "\n",
    "train_generator = gen.flow(X_train, Y_train, batch_size=64)\n",
    "test_generator = test_gen.flow(X_test, Y_test, batch_size=64)"
   ]
  },
  {
   "cell_type": "code",
   "execution_count": 142,
   "metadata": {},
   "outputs": [
    {
     "name": "stdout",
     "output_type": "stream",
     "text": [
      "Epoch 1/5\n",
      "937/937 [==============================] - 100s 107ms/step - loss: 0.1992 - acc: 0.9364 - val_loss: 0.0305 - val_acc: 0.9891\n",
      "Epoch 2/5\n",
      "937/937 [==============================] - 101s 108ms/step - loss: 0.0642 - acc: 0.9806 - val_loss: 0.0451 - val_acc: 0.9860\n",
      "Epoch 3/5\n",
      "937/937 [==============================] - 104s 111ms/step - loss: 0.0497 - acc: 0.9850 - val_loss: 0.0285 - val_acc: 0.9912\n",
      "Epoch 4/5\n",
      "937/937 [==============================] - 102s 109ms/step - loss: 0.0412 - acc: 0.9877 - val_loss: 0.0276 - val_acc: 0.9916\n",
      "Epoch 5/5\n",
      "937/937 [==============================] - 103s 110ms/step - loss: 0.0382 - acc: 0.9884 - val_loss: 0.0204 - val_acc: 0.9938\n"
     ]
    },
    {
     "data": {
      "text/plain": [
       "<keras.callbacks.History at 0x7f81e9f77748>"
      ]
     },
     "execution_count": 142,
     "metadata": {},
     "output_type": "execute_result"
    }
   ],
   "source": [
    "cnn.fit_generator(train_generator, steps_per_epoch=60000//64, epochs=5, \n",
    "                    validation_data=test_generator, validation_steps=10000//64)"
   ]
  },
  {
   "cell_type": "code",
   "execution_count": 144,
   "metadata": {},
   "outputs": [],
   "source": [
    "output_index = 3\n",
    "\n",
    "# define a placeholder for the input image_vector (the flattened image)\n",
    "input_image = cnn.input\n",
    "\n",
    "# define the loss function - which is precisely just the mean of the probability of the given character across the batch\n",
    "cnn_loss = KB.mean(cnn.output[:, output_index])\n",
    "\n",
    "# compute the gradient of the input picture wrt this loss\n",
    "cnn_grads = KB.gradients(cnn_loss, input_image)[0]\n",
    "\n",
    "# normalization trick: we normalize the gradient\n",
    "cnn_grads /= (KB.sqrt(KB.mean(KB.square(cnn_grads))) + 1e-5)\n",
    "\n",
    "# this function returns the loss and grads given the input picture\n",
    "cnn_iterate = KB.function([input_image], [cnn_loss, cnn_grads])"
   ]
  },
  {
   "cell_type": "code",
   "execution_count": 154,
   "metadata": {},
   "outputs": [],
   "source": [
    "def batched_image(image):\n",
    "    return np.reshape(image[None],[1,28,28,1])\n",
    "\n",
    "def normal_image(batched_image):\n",
    "    return batched_image[0,:,:,0]"
   ]
  },
  {
   "cell_type": "code",
   "execution_count": 158,
   "metadata": {},
   "outputs": [
    {
     "data": {
      "image/png": "[encoded data removed]",
      "text/plain": [
       "<Figure size 432x288 with 1 Axes>"
      ]
     },
     "metadata": {},
     "output_type": "display_data"
    },
    {
     "data": {
      "image/png": "[encoded data removed]",
      "text/plain": [
       "<Figure size 432x288 with 1 Axes>"
      ]
     },
     "metadata": {},
     "output_type": "display_data"
    }
   ],
   "source": [
    "# we start from a gray image with some noise\n",
    "input_img_data = np.random.normal(size = (28,28))\n",
    "input_img_data = batched_image(input_img_data)\n",
    "pre_image = copy.copy(input_img_data) \n",
    "\n",
    "# show the image\n",
    "plt.imshow(normal_image(input_img_data),cmap=\"gray\")\n",
    "plt.axis(\"off\")\n",
    "plt.show()\n",
    "\n",
    "# plot the predictions of the neural net for this random image\n",
    "original_preds = cnn.predict(pre_image)\n",
    "_ = plt.plot(original_preds[0,:])\n",
    "_ = plt.plot(original_preds[0,:],'x')\n",
    "plt.show()"
   ]
  },
  {
   "cell_type": "code",
   "execution_count": 159,
   "metadata": {},
   "outputs": [
    {
     "name": "stdout",
     "output_type": "stream",
     "text": [
      "Current loss value: 0.082244374\n",
      "Current loss value: 0.9640003\n",
      "Current loss value: 0.9999596\n",
      "Current loss value: 0.9999969\n",
      "Current loss value: 0.99999785\n",
      "Current loss value: 0.9999982\n",
      "Current loss value: 0.99999857\n",
      "Current loss value: 0.9999988\n",
      "Current loss value: 0.9999989\n",
      "Current loss value: 0.99999905\n"
     ]
    }
   ],
   "source": [
    "# run gradient ascent for n steps\n",
    "n = 10\n",
    "step = 0.05\n",
    "for i in range(n):\n",
    "    loss_value, grads_value = cnn_iterate([input_img_data])\n",
    "    input_img_data += grads_value * step\n",
    "\n",
    "    print('Current loss value:', loss_value)"
   ]
  },
  {
   "cell_type": "code",
   "execution_count": null,
   "metadata": {},
   "outputs": [],
   "source": [
    "# we start from a gray image with some noise\n",
    "input_img_data = np.random.normal(size = (28,28))\n",
    "input_img_data = batched_image(input_img_data)\n",
    "pre_image = copy.copy(input_img_data) \n",
    "\n",
    "# show the image\n",
    "plt.imshow(normal_image(input_img_data),cmap=\"gray\")\n",
    "plt.axis(\"off\")\n",
    "plt.show()\n",
    "\n",
    "# plot the predictions of the neural net for this random image\n",
    "original_preds = cnn.predict(pre_image)\n",
    "_ = plt.plot(original_preds[0,:])\n",
    "_ = plt.plot(original_preds[0,:],'x')\n",
    "plt.show()"
   ]
  }
 ],
 "metadata": {
  "kernelspec": {
   "display_name": "Python 3",
   "language": "python",
   "name": "python3"
  },
  "language_info": {
   "codemirror_mode": {
    "name": "ipython",
    "version": 3
   },
   "file_extension": ".py",
   "mimetype": "text/x-python",
   "name": "python",
   "nbconvert_exporter": "python",
   "pygments_lexer": "ipython3",
   "version": "3.5.2"
  }
 },
 "nbformat": 4,
 "nbformat_minor": 2
}
